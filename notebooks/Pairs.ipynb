{
 "cells": [
  {
   "cell_type": "markdown",
   "id": "695c4c0d-5823-4a29-b00b-a3dd731e11c7",
   "metadata": {},
   "source": [
    "# Imports and data"
   ]
  },
  {
   "cell_type": "code",
   "execution_count": null,
   "id": "887a1c80-ba47-4197-aee7-9267e5ae0c7c",
   "metadata": {
    "scrolled": true,
    "tags": []
   },
   "outputs": [],
   "source": [
    "import os\n",
    "os.environ[\"JAVA_HOME\"] = \"/lib/jvm/java-11-openjdk-amd64\"\n",
    "# Because otherwise custom modules import errors\n",
    "import sys\n",
    "from tqdm import tqdm\n",
    "sys.path.append('wikipedia_core_events_semantic/')\n",
    "os.makedirs('interm_results/volume_dynamics', exist_ok=True)\n",
    "os.makedirs('figures_report/volume_dynamics', exist_ok=True)"
   ]
  },
  {
   "cell_type": "code",
   "execution_count": null,
   "id": "877d80b9-daa1-4525-b368-1c4df9336c59",
   "metadata": {
    "tags": []
   },
   "outputs": [],
   "source": [
    "import pandas as pd\n",
    "import numpy as np\n",
    "import matplotlib.pyplot as plt\n",
    "from matplotlib import cm\n",
    "%matplotlib inline\n",
    "\n",
    "from pyspark.sql.functions import *\n",
    "from pyspark import SparkContext\n",
    "from pyspark.sql.types import ArrayType, IntegerType\n",
    "\n",
    "import plotly.graph_objs as go\n",
    "import plotly.express as px\n",
    "\n",
    "from scipy import stats\n",
    "from scipy import spatial"
   ]
  },
  {
   "cell_type": "code",
   "execution_count": null,
   "id": "9bbea7bd-6966-46ae-8df5-e0d6fd563188",
   "metadata": {
    "tags": []
   },
   "outputs": [],
   "source": [
    "from more_itertools import consecutive_groups\n",
    "from itertools import chain, combinations"
   ]
  },
  {
   "cell_type": "code",
   "execution_count": null,
   "id": "c53efdbc-2f0e-433b-a3d7-16042737f1f1",
   "metadata": {
    "tags": []
   },
   "outputs": [],
   "source": [
    "import pyspark"
   ]
  },
  {
   "cell_type": "code",
   "execution_count": null,
   "id": "1841187c-0c5c-4e3e-8a2a-45793b87c810",
   "metadata": {
    "tags": []
   },
   "outputs": [],
   "source": [
    "from wikipedia_core_events_semantic.ranking_helpers import *\n",
    "from wikipedia_core_events_semantic.make_and_plot import*\n",
    "from wikipedia_core_events_semantic.pages_groups_extraction import*\n",
    "from wikipedia_core_events_semantic.data_aggregation import*"
   ]
  },
  {
   "cell_type": "markdown",
   "id": "30db4841-b500-43b8-885f-6015c1e03c63",
   "metadata": {
    "tags": []
   },
   "source": [
    "## Initialize context "
   ]
  },
  {
   "cell_type": "code",
   "execution_count": null,
   "id": "9506d733-8a5f-4638-93d1-b29b91634e5b",
   "metadata": {
    "tags": []
   },
   "outputs": [],
   "source": [
    "conf = pyspark.SparkConf().setMaster(\"local[5]\").setAll([\n",
    "                                   ('spark.driver.memory','70G'),\n",
    "                                   ('spark.executor.memory', '70G'),\n",
    "                                   ('spark.driver.maxResultSize', '0'),\n",
    "                                    ('spark.executor.cores', '5'),\n",
    "                                    ('spark.local.dir', '/scratch/descourt/spark')\n",
    "                                ])\n",
    "# create the session\n",
    "spark = SparkSession.builder.config(conf=conf).getOrCreate()\n",
    "# create the context\n",
    "sc = spark.sparkContext\n",
    "sc.setLogLevel('ERROR')"
   ]
  },
  {
   "cell_type": "markdown",
   "id": "b0a48932-45f9-4873-9339-01f860816e19",
   "metadata": {},
   "source": [
    "## Download data\n"
   ]
  },
  {
   "cell_type": "code",
   "execution_count": null,
   "id": "0abce945-f8e8-4ee0-ac8a-a85ecdba1d97",
   "metadata": {
    "tags": []
   },
   "outputs": [],
   "source": [
    "dfs = spark.read.parquet(\"/scratch/descourt/processed_data/en/pageviews_en_2015-2023.parquet\").withColumn('date', to_date(col('date'), 'yyyy-MM')).cache()"
   ]
  },
  {
   "cell_type": "code",
   "execution_count": null,
   "id": "5375b35b-a020-4b88-b160-c2d619568244",
   "metadata": {
    "tags": []
   },
   "outputs": [],
   "source": [
    "df_metadata = spark.read.parquet('/scratch/descourt/metadata/akhils_data/wiki_nodes_bsdk_phili_2022-11.parquet')"
   ]
  },
  {
   "cell_type": "code",
   "execution_count": null,
   "id": "4cee4bb4-4e19-4198-b91d-251e55f97ca2",
   "metadata": {},
   "outputs": [],
   "source": [
    "dfs_change = spark.read.parquet(\"/scratch/descourt/processed_data/en/pageviews_en_articles_ev_2022-11.parquet\")"
   ]
  },
  {
   "cell_type": "code",
   "execution_count": null,
   "id": "3b809926-529d-43cf-bf3d-83b115f6c479",
   "metadata": {
    "tags": []
   },
   "outputs": [],
   "source": [
    "dfs_uptonov = dfs.where(dfs.date <= to_date(lit('2022-11'), 'yyyy-MM')).cache()"
   ]
  },
  {
   "cell_type": "code",
   "execution_count": null,
   "id": "f528366f-ae68-40eb-b6e6-d1dd60512035",
   "metadata": {},
   "outputs": [],
   "source": [
    "dfs_uptonov = dfs_uptonov.join(dfs_change, dfs_change.page_ids == dfs_uptonov.page_id).cache()"
   ]
  },
  {
   "cell_type": "markdown",
   "id": "b11d8991-85fb-40b8-9d66-e9e2d0e4d7ae",
   "metadata": {
    "tags": []
   },
   "source": [
    "# Find matching for languages editions in terms of number of articles"
   ]
  },
  {
   "cell_type": "markdown",
   "id": "fc0d7425-aad3-4951-a6f3-89ed878676ed",
   "metadata": {
    "jp-MarkdownHeadingCollapsed": true,
    "tags": []
   },
   "source": [
    "## Find examples where creation date > number of times in volume"
   ]
  },
  {
   "cell_type": "code",
   "execution_count": null,
   "id": "ea68ba88-9b9d-4729-a112-5f8202c4bc1f",
   "metadata": {
    "tags": []
   },
   "outputs": [],
   "source": [
    "df_occ = dfs_uptonov.groupBy('last_page_id').agg(count('*').alias('nb_occ'))\n",
    "dfs_augm = dfs_uptonov.join(df_occ, on='last_page_id')\\\n",
    "                      .join(df_metadata.select(col('page_id').alias('last_page_id'), to_date('creation_date', 'yyyy-MM').alias('creation_date')), on='last_page_id').cache()"
   ]
  },
  {
   "cell_type": "code",
   "execution_count": null,
   "id": "986e99d4-8818-4527-a0d6-62b36f6e64c6",
   "metadata": {
    "tags": []
   },
   "outputs": [],
   "source": [
    "dfs_augm.where(to_date(col('creation_date'), 'yyyy-MM') > col('date')).select('date', 'page_id', 'last_name', 'creation_date', 'tot_count_views', 'page').distinct().show(60)"
   ]
  },
  {
   "cell_type": "code",
   "execution_count": null,
   "id": "4d3276c6-f10c-4246-84d0-676b33b09caf",
   "metadata": {
    "tags": []
   },
   "outputs": [],
   "source": [
    "dfs.where('page_id = \"67394045\"').sort(asc('date')).take(2)"
   ]
  },
  {
   "cell_type": "markdown",
   "id": "d525fae4-0fdb-4379-aab3-4160194bc3f4",
   "metadata": {
    "tags": []
   },
   "source": [
    "# Extract pairs"
   ]
  },
  {
   "cell_type": "markdown",
   "id": "16c3b16b-e315-4158-b566-a4043fd4d04d",
   "metadata": {},
   "source": [
    "Below datasets were computed with the following commandes `python make_pairs.py --memory 120`. \n",
    "\n",
    "Less articles are found than reported, because pages containing ':' are filtered out, to avoid non main space articles but this is not the best option. \n"
   ]
  },
  {
   "cell_type": "markdown",
   "id": "53f12fda-1f06-4854-9a63-174a6bf78b85",
   "metadata": {},
   "source": [
    "## Retrieve data set, match on QID, filter out underestimated editions\n",
    "\n",
    "I also want to exclude editions for whcih removing ':' containing articles incures a too heavy page loss. "
   ]
  },
  {
   "cell_type": "code",
   "execution_count": null,
   "id": "a6dcd814-ee22-4f6f-af4d-dfd81dd6277c",
   "metadata": {
    "tags": []
   },
   "outputs": [],
   "source": [
    "dfs_alleds = spark.read.parquet('/scratch/descourt/processed_data/multieditions/pageviews_agg_all.parquet').withColumn('date', to_date(col('date'), 'yyyy-MM'))\n",
    "dfs_pairs = spark.read.parquet('/scratch/descourt/processed_data/multieditions/pairs_0.95.parquet')\n",
    "\n",
    "df_metafilt = df_metadata.select((split('wiki_db', 'wiki')[0]).alias('project'), 'page_id', 'item_id').cache()\n",
    "dfs_alleds = dfs_alleds.join(df_metafilt, on=['project', 'page_id']).cache()"
   ]
  },
  {
   "cell_type": "code",
   "execution_count": null,
   "id": "deff8e3b-0d06-4180-a229-41e3038b1392",
   "metadata": {
    "tags": []
   },
   "outputs": [],
   "source": [
    "df_nbarticles = dfs_alleds.groupBy('date', 'project').agg(count('*').alias('nb_articles')).toPandas()\n",
    "df_metaarticles = df_metafilt.groupBy('project').agg(count('*').alias('nb_articles')).toPandas()"
   ]
  },
  {
   "cell_type": "code",
   "execution_count": null,
   "id": "eea941d4-31ff-48fb-810e-0cc3a863bae5",
   "metadata": {
    "tags": []
   },
   "outputs": [],
   "source": [
    "df_nbarticles = df_nbarticles.rename(columns={'nb_articles':'nb_custom'}).merge(df_metaarticles, on='project')"
   ]
  },
  {
   "cell_type": "code",
   "execution_count": null,
   "id": "e4d54b42-145f-4c7f-bf0a-08cbb9c431d9",
   "metadata": {
    "tags": []
   },
   "outputs": [],
   "source": [
    "df_filt = df_nbarticles.loc[df_nbarticles.date.astype(str) == '2022-11-01']\n",
    "df_filt['error'] = df_filt['nb_custom'] / df_filt['nb_articles']\n",
    "projects_to_keep = df_filt[df_filt['error'] > 0.89]['project'].values"
   ]
  },
  {
   "cell_type": "markdown",
   "id": "7aa693d7-fe9a-4d98-bbe5-4b39384a8fb9",
   "metadata": {
    "tags": []
   },
   "source": [
    "## Gather all langs pairs info - Match on average views"
   ]
  },
  {
   "cell_type": "code",
   "execution_count": null,
   "id": "4aa36e5d-f7e1-4ae5-bcce-79ef7fee929b",
   "metadata": {
    "tags": []
   },
   "outputs": [],
   "source": [
    "w = Window.partitionBy('pairs', 'date')\n",
    "df_projects_stats = dfs_alleds.groupBy('project', 'date')\\\n",
    "                              .agg(count('*').alias('numberOfArticles'), \n",
    "                                   avg('tot_count_views').alias('averageViews'), \n",
    "                                   stddev('tot_count_views').alias('standardDevViews'),\n",
    "                                   max('tot_count_views').alias('maxView'),\\\n",
    "                                      min('tot_count_views').alias('minView'),\\\n",
    "                                      percentile_approx('tot_count_views', 0.5).alias('med'),\\\n",
    "                                      percentile_approx('tot_count_views', 0.25).alias('25%'),\\\n",
    "                                    percentile_approx('tot_count_views', 0.75).alias('75%'),\\\n",
    "                                      percentile_approx('tot_count_views', 0.9).alias('90%'),\\\n",
    "                                      sum('tot_count_views').alias('sumViews')).cache()"
   ]
  },
  {
   "cell_type": "code",
   "execution_count": null,
   "id": "77147463-a0c1-4da4-9113-a7858de400c3",
   "metadata": {
    "tags": []
   },
   "outputs": [],
   "source": [
    "matchlangs = spark.read.parquet('/scratch/descourt/processed_data/multieditions/pairs_0.95.parquet')\n",
    "df_projects = matchlangs.select('pairs', explode('pairs').alias('project')).join(df_projects_stats, on='project').toPandas()"
   ]
  },
  {
   "cell_type": "code",
   "execution_count": null,
   "id": "fcc39542-a373-4f10-8535-7a561b790873",
   "metadata": {
    "tags": []
   },
   "outputs": [],
   "source": [
    "def compute_views_ratio(item):\n",
    "    return Row(\n",
    "        lang1=item[0][0],\n",
    "        lang2=item[1][0],\n",
    "        ratio=float(np.abs(np.log(item[0][1] / item[1][1]))))"
   ]
  },
  {
   "cell_type": "code",
   "execution_count": null,
   "id": "50112481-7d27-4fbf-9d73-1b85ab10edb0",
   "metadata": {
    "tags": []
   },
   "outputs": [],
   "source": [
    "df_projects = df_projects.merge(df_metafilt.groupBy('project').agg(count('*').alias('numberOfArticlesNov22')).toPandas(), on='project')"
   ]
  },
  {
   "cell_type": "code",
   "execution_count": null,
   "id": "713a5848-5c16-4a5a-aa68-01b5d6e5785d",
   "metadata": {
    "tags": []
   },
   "outputs": [],
   "source": [
    "df_projects.sort_values(['date', 'numberOfArticlesNov22']).to_csv(\"/scratch/descourt/processed_data/multieditions/stats_langs.csv\")"
   ]
  },
  {
   "cell_type": "code",
   "execution_count": null,
   "id": "f5c824cd-9dcd-45df-b032-be1b1dbc3228",
   "metadata": {},
   "outputs": [],
   "source": [
    "pairs = df_projects.where('date = \"2022-06-01\"').select('project', 'averageViews').rdd.map(tuple).cartesian(df_projects.where('date = \"2022-06-01\"').select('project','averageViews').rdd.map(tuple))"
   ]
  },
  {
   "cell_type": "code",
   "execution_count": null,
   "id": "87fcd20c-cb65-4637-8cc6-1c83bf95f66e",
   "metadata": {
    "tags": []
   },
   "outputs": [],
   "source": [
    "viewsRatio_df = pairs.map(lambda r: compute_views_ratio(r)).toDF()\n",
    "matching_lang = viewsRatio_df.where((col('ratio') != 0) & (col('ratio') <= -log(lit(0.85))))\\\n",
    "                        .select( array_sort(array(col('lang1'), col('lang2'))).alias('pairs'), 'lang1', 'lang2')\\\n",
    "                        .dropDuplicates(['pairs']).cache()"
   ]
  },
  {
   "cell_type": "code",
   "execution_count": null,
   "id": "724a45e7-6eb9-4ba8-a9a5-b176b5d3fb3e",
   "metadata": {
    "tags": []
   },
   "outputs": [],
   "source": [
    "matching_lang2 = matching_lang.join(dfs_pairs.select('pairs'), on='pairs')"
   ]
  },
  {
   "cell_type": "code",
   "execution_count": null,
   "id": "82c9d7ac-017a-4530-a072-1617f782fe42",
   "metadata": {
    "tags": []
   },
   "outputs": [],
   "source": [
    "dfs_pairs_filt = matching_lang2.union(matching_lang2.select(array(col('pairs')[1] , col('pairs')[0]).alias('pairs'),'lang1', 'lang2'))"
   ]
  },
  {
   "cell_type": "code",
   "execution_count": null,
   "id": "d19de526-23b8-4e09-8e97-c61f80ec89fd",
   "metadata": {
    "tags": []
   },
   "outputs": [],
   "source": [
    "len(pairs_filt)"
   ]
  },
  {
   "cell_type": "code",
   "execution_count": null,
   "id": "fd5cda43-b154-4f39-9983-768cb4ccfe2e",
   "metadata": {
    "tags": []
   },
   "outputs": [],
   "source": [
    "pairs_filt = [p['pairs'] for p in dfs_pairs_filt.select('pairs').collect()]"
   ]
  },
  {
   "cell_type": "markdown",
   "id": "83b2a800-16ca-4b52-988d-cf91fa8d21f2",
   "metadata": {
    "tags": []
   },
   "source": [
    "# Linear regression"
   ]
  },
  {
   "cell_type": "markdown",
   "id": "467faa26-3a5b-4ec5-9024-712c98535f0a",
   "metadata": {},
   "source": [
    "##  Gather all data for analysis"
   ]
  },
  {
   "cell_type": "code",
   "execution_count": null,
   "id": "c9ea3a7f-6764-4f8c-bb4b-f5fc431b5391",
   "metadata": {
    "tags": []
   },
   "outputs": [],
   "source": [
    "matched_pairs = df_high_finalpairs.where('intail = \"1\"').join(dfs_alleds.select('date', 'project', 'item_id', 'tot_count_views'), on=['date', 'project', 'item_id']).cache()"
   ]
  },
  {
   "cell_type": "code",
   "execution_count": null,
   "id": "e96d2df2-43f7-4262-a399-e3ec15e23e4a",
   "metadata": {
    "tags": []
   },
   "outputs": [],
   "source": [
    "matched_pairs = matched_pairs.select(col('date').alias('treatment_date'), add_months('date', -1).alias('previous_date'), 'project', 'item_id', col('tot_count_views').alias('views_post_treat'), 'was_in_tail', 'pairs').cache()\n",
    "matched_pairs = matched_pairs.join(dfs_alleds.select(col('date').alias('previous_date'), 'project', 'item_id', col('tot_count_views').alias('views_pre_treat')), on =['previous_date', 'project', 'item_id'], how='left').fillna(0, subset=['views_pre_treat'])\\\n",
    "                                .toPandas()"
   ]
  },
  {
   "cell_type": "code",
   "execution_count": null,
   "id": "21caea0d-988a-4a88-8ff5-a7b62beafcde",
   "metadata": {
    "tags": []
   },
   "outputs": [],
   "source": [
    "matched_pairs.sort_values(by=['previous_date', 'item_id']).to_csv(\"/scratch/descourt/processed_data/multieditions/pairs_0.95.csv\")"
   ]
  },
  {
   "cell_type": "code",
   "execution_count": null,
   "id": "31c8f4c3-5624-4690-87ae-e416cf0dd7a4",
   "metadata": {
    "tags": []
   },
   "outputs": [],
   "source": [
    "matched_pairs['pairs'] = matched_pairs['pairs'].apply(lambda s : [l.strip()[1:-1] for l in s[1:-1].split(',')])"
   ]
  },
  {
   "cell_type": "code",
   "execution_count": null,
   "id": "4be226a3-86e1-4c40-9078-502a10ab84b1",
   "metadata": {
    "tags": []
   },
   "outputs": [],
   "source": [
    "matched_pairs"
   ]
  },
  {
   "cell_type": "code",
   "execution_count": null,
   "id": "8c7d6130-5ccc-4ddc-8faa-46501c6fbead",
   "metadata": {
    "tags": []
   },
   "outputs": [],
   "source": [
    "# Check for the number of pages that we have\n",
    "nb_pairs_per_date = matched_pairs.groupby('treatment_date').apply(lambda x : x.size / 2)\n",
    "nb_pairs_per_date"
   ]
  },
  {
   "cell_type": "markdown",
   "id": "1a4a89d3-fbd7-4632-9ce3-d777772fe7b0",
   "metadata": {},
   "source": [
    "## Analyse"
   ]
  },
  {
   "cell_type": "code",
   "execution_count": null,
   "id": "38ad633f-ab4b-4c81-bf1c-27a4cabacf7d",
   "metadata": {
    "tags": []
   },
   "outputs": [],
   "source": [
    "matched_pairs_feb = matched_pairs.loc[(matched_pairs['treatment_date'] == pd.to_datetime('2022-02-01'))]# & matched_pairs.pairs.isin(pairs_filt)]"
   ]
  },
  {
   "cell_type": "code",
   "execution_count": null,
   "id": "4b024d14-4818-4c2c-89cc-963467f31a5c",
   "metadata": {
    "tags": []
   },
   "outputs": [],
   "source": [
    "matched_pairs_feb"
   ]
  },
  {
   "cell_type": "code",
   "execution_count": null,
   "id": "038425ee-bbb2-4dd7-90ee-8c11de54e194",
   "metadata": {
    "tags": []
   },
   "outputs": [],
   "source": [
    "df_pre = matched_pairs_feb[['views_pre_treat', 'was_in_tail']].rename(columns = {'views_pre_treat' : 'views', 'was_in_tail' : 'treated'})\n",
    "df_pre['post_treat'] = 0\n",
    "df_post = matched_pairs_feb[['views_post_treat', 'was_in_tail']].rename(columns = {'views_post_treat' : 'views', 'was_in_tail' : 'treated'})\n",
    "df_post['post_treat'] = 1\n",
    "\n",
    "df_reg = pd.concat([df_pre, df_post])"
   ]
  },
  {
   "cell_type": "code",
   "execution_count": null,
   "id": "8cd711de-3c94-41fd-a536-bd5f92e147b2",
   "metadata": {
    "tags": []
   },
   "outputs": [],
   "source": [
    "from statsmodels.formula.api import ols\n",
    "\n",
    "ols = ols('views ~ post_treat * treated', data=df_reg).fit()\n",
    "print(ols.summary())"
   ]
  },
  {
   "cell_type": "code",
   "execution_count": null,
   "id": "a0d29eea-5438-4445-86df-a5c4123e6d13",
   "metadata": {},
   "outputs": [],
   "source": []
  }
 ],
 "metadata": {
  "kernelspec": {
   "display_name": "Python 3 (ipykernel)",
   "language": "python",
   "name": "python3"
  },
  "language_info": {
   "codemirror_mode": {
    "name": "ipython",
    "version": 3
   },
   "file_extension": ".py",
   "mimetype": "text/x-python",
   "name": "python",
   "nbconvert_exporter": "python",
   "pygments_lexer": "ipython3",
   "version": "3.10.9"
  },
  "widgets": {
   "application/vnd.jupyter.widget-state+json": {
    "state": {},
    "version_major": 2,
    "version_minor": 0
   }
  }
 },
 "nbformat": 4,
 "nbformat_minor": 5
}
