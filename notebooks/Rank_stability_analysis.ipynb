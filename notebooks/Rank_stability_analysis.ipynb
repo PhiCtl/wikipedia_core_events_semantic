{
 "cells": [
  {
   "cell_type": "markdown",
   "id": "0382e043-936b-402a-a6e1-fadc5dbb807a",
   "metadata": {
    "tags": []
   },
   "source": [
    "# Installing pyspark requirements"
   ]
  },
  {
   "cell_type": "code",
   "execution_count": null,
   "id": "c7156ad9-ace7-4f62-ad2e-c6963db4612a",
   "metadata": {
    "scrolled": true
   },
   "outputs": [],
   "source": [
    "import os\n",
    "os.environ[\"JAVA_HOME\"] = \"/lib/jvm/java-11-openjdk-amd64\"\n",
    "# Because otherwise custom modules import errors\n",
    "import sys\n",
    "sys.path.append('../')\n",
    "os.makedirs(\"../figures_report/rank_stability\", exist_ok=True)"
   ]
  },
  {
   "cell_type": "code",
   "execution_count": null,
   "id": "129eb63a-c384-4727-9117-da437a552b27",
   "metadata": {},
   "outputs": [],
   "source": [
    "import pandas as pd\n",
    "import numpy as np\n",
    "\n",
    "import matplotlib.pyplot as plt\n",
    "%matplotlib inline\n",
    "import seaborn as sns\n",
    "sns.set(rc={'figure.figsize':(15,10)})\n",
    "import plotly.graph_objs as go\n",
    "import plotly.express as px\n",
    "\n",
    "from pyspark.sql import *\n",
    "from pyspark.sql.functions import *\n",
    "from pyspark import SparkContext\n",
    "from pyspark.sql import SQLContext"
   ]
  },
  {
   "cell_type": "code",
   "execution_count": null,
   "id": "89d6780c-f29d-40a4-8ddc-3b675b0bbc52",
   "metadata": {},
   "outputs": [],
   "source": [
    "import pyspark"
   ]
  },
  {
   "cell_type": "code",
   "execution_count": null,
   "id": "8680ee1e-6f97-4af4-a66d-9b52ee92b0ce",
   "metadata": {
    "tags": []
   },
   "outputs": [],
   "source": [
    "from src.ranking_helpers import *\n",
    "from src.rank_turbulence_divergence import *\n",
    "from src.pages_groups_extraction import*"
   ]
  },
  {
   "cell_type": "markdown",
   "id": "4d95933e-ac1b-4fa6-8b87-30539d2882d7",
   "metadata": {},
   "source": [
    "## Initialize context "
   ]
  },
  {
   "cell_type": "code",
   "execution_count": null,
   "id": "72ba8728-ea94-4bce-8c87-bfc0c9349137",
   "metadata": {
    "tags": []
   },
   "outputs": [],
   "source": [
    "conf = pyspark.SparkConf().setMaster(\"local[3]\").setAll([\n",
    "                                   ('spark.driver.memory','100G'),\n",
    "                                   ('spark.executor.memory', '100G'),\n",
    "                                   ('spark.driver.maxResultSize', '0'),\n",
    "                                    ('spark.executor.cores', '3'),\n",
    "                                    ('spark.local.dir', '/scratch/descourt/spark')\n",
    "                                  ])\n",
    "# create the session\n",
    "spark = SparkSession.builder.config(conf=conf).getOrCreate()\n",
    "# create the context\n",
    "sc = spark.sparkContext\n",
    "sc.setLogLevel('ERROR')"
   ]
  },
  {
   "cell_type": "markdown",
   "id": "8da07696-486e-4414-a776-2e682ffe5575",
   "metadata": {
    "jp-MarkdownHeadingCollapsed": true,
    "tags": []
   },
   "source": [
    "# PLotting functions"
   ]
  },
  {
   "cell_type": "code",
   "execution_count": null,
   "id": "e4eb7621-ff63-49e7-b918-04d423f0ebba",
   "metadata": {},
   "outputs": [],
   "source": [
    "def plot_salient(df, group='date', path=None):\n",
    "    fig = go.Figure()\n",
    "    \n",
    "    l = []\n",
    "    for n, grp in df.groupby(group):\n",
    "        d1_grp = grp[grp['div_sign'] < 0]\n",
    "        d2_grp = grp[grp['div_sign'] > 0]\n",
    "        fig.add_trace(\n",
    "            go.Bar(\n",
    "                x=d1_grp['div'],\n",
    "                y=d1_grp['page'],\n",
    "                name=d1_grp['month'].unique()[0],\n",
    "                orientation='h',\n",
    "                text = d1_grp['ranks'],\n",
    "                textposition = \"outside\",\n",
    "                marker={'color': 'red'},\n",
    "            hovertemplate=\"Divergence %{x} <br>Ranks %{text}\"))\n",
    "        fig.add_trace(\n",
    "            go.Bar(\n",
    "                x=d2_grp['div'],\n",
    "                y=d2_grp['page'],\n",
    "                name=d2_grp['month'].unique()[0],\n",
    "                orientation='h',\n",
    "                text = d2_grp['ranks'],\n",
    "                textposition = \"outside\",\n",
    "             marker={'color': 'green'},\n",
    "            hovertemplate=\"Divergence %{x} <br>Ranks %{text}\"))\n",
    "        l.append(n)\n",
    "\n",
    "    # Create and add slider\n",
    "    steps = []\n",
    "    for i in np.arange(0, len(fig.data), 2):\n",
    "        step = dict(\n",
    "            method=\"update\",\n",
    "            args=[{\"visible\": [False] * len(fig.data)},\n",
    "                  {\"title\": f\"Slider switched to {group}: \" + str(l[i//2])}],\n",
    "            label=str(l[i//2])# layout attribute\n",
    "        )\n",
    "        step[\"args\"][0][\"visible\"][i] = True\n",
    "        step[\"args\"][0][\"visible\"][i+1] = True # Toggle i'th trace to \"visible\"\n",
    "        steps.append(step)\n",
    "\n",
    "    sliders = [dict(\n",
    "        active=0,\n",
    "        currentvalue={\"prefix\": f\"{group}: \"},\n",
    "        pad={\"t\": 50},\n",
    "        steps=steps\n",
    "    )]\n",
    "\n",
    "    fig.update_layout(\n",
    "        sliders=sliders,\n",
    "        showlegend=True,\n",
    "        autosize=False,\n",
    "        height=800,\n",
    "        width=1000,\n",
    "        xaxis_title='Individual divergence contribution',\n",
    "        yaxis_title='Page',\n",
    "        legend_title='Dates to compare',\n",
    "        title='Top 20 pages contributing to the divergence for each month'\n",
    "                    )\n",
    "    \n",
    "    fig.show()\n",
    "    \n",
    "    if path is not None:\n",
    "        fig.write_html(path)\n",
    "    \n",
    "    \n"
   ]
  },
  {
   "cell_type": "markdown",
   "id": "9ea2ca65-62ca-4056-92ba-f4a4c2ed44b3",
   "metadata": {
    "tags": []
   },
   "source": [
    "# Data"
   ]
  },
  {
   "cell_type": "markdown",
   "id": "2ebe9fac-ded0-40e9-8c70-5e98bd1c6a50",
   "metadata": {},
   "source": [
    "## Download data\n",
    "\n",
    "df_divs was computed with the following command `python make_and_plot.py --mode rtd --alpha 0.3 --memory 120`"
   ]
  },
  {
   "cell_type": "code",
   "execution_count": null,
   "id": "b93980c8-3b8d-4269-9adf-10748b3b8a72",
   "metadata": {
    "tags": []
   },
   "outputs": [],
   "source": [
    "dfs = spark.read.parquet(\"/scratch/descourt/processed_data/en/pageviews_en_2015-2023.parquet\").withColumn('project', lit('en'))"
   ]
  },
  {
   "cell_type": "code",
   "execution_count": null,
   "id": "67c327d3-2b53-4742-9eca-6df42e8ef9db",
   "metadata": {
    "tags": []
   },
   "outputs": [],
   "source": [
    "df_divs = spark.read.parquet('/scratch/descourt/plots/thesis/RTD_all.parquet')"
   ]
  },
  {
   "cell_type": "code",
   "execution_count": null,
   "id": "54747470-3567-49df-809f-316514abc336",
   "metadata": {
    "tags": []
   },
   "outputs": [],
   "source": [
    "df_divs_alpha = spark.read.parquet('/scratch/descourt/plots/thesis/RTD_alphas.parquet')"
   ]
  },
  {
   "cell_type": "code",
   "execution_count": null,
   "id": "b9048e27-61e5-498f-bb8f-034e783e8c30",
   "metadata": {
    "tags": []
   },
   "outputs": [],
   "source": [
    "# Topics\n",
    "df_topics_sp = spark.read.parquet('/scratch/descourt/metadata/topics/topic_en/topics-enwiki-20230320-parsed.parquet')"
   ]
  },
  {
   "cell_type": "code",
   "execution_count": null,
   "id": "39d1684a-9ef4-41b1-a84b-ca3cfe9f1ca4",
   "metadata": {
    "tags": []
   },
   "outputs": [],
   "source": [
    "dfs_change = spark.read.parquet(\"/scratch/descourt/processed_data/en/pageviews_en_articles_ev_2023-03.parquet\")"
   ]
  },
  {
   "cell_type": "markdown",
   "id": "bc3fe4d8-68ce-4647-b7ad-2dabdd2c88af",
   "metadata": {},
   "source": [
    "## Process data"
   ]
  },
  {
   "cell_type": "code",
   "execution_count": null,
   "id": "26fdb61d-f09d-4d53-a21e-7d716937a31c",
   "metadata": {
    "tags": []
   },
   "outputs": [],
   "source": [
    "df_high_volume = extract_volume(dfs, high=True).cache()"
   ]
  },
  {
   "cell_type": "code",
   "execution_count": null,
   "id": "ed4b1959-d925-4fe1-ac0c-535e112fc5e8",
   "metadata": {
    "tags": []
   },
   "outputs": [],
   "source": [
    "df_low_volume = extract_volume(dfs, high=False).cache()"
   ]
  },
  {
   "cell_type": "code",
   "execution_count": null,
   "id": "16a0e608-2085-4fd2-b882-7585d0a97d12",
   "metadata": {},
   "outputs": [],
   "source": [
    "df_divs_augm = df_divs.join(df_topics_sp.select('page_id', col('topics_specific_unique').alias('topic')).distinct(), 'page_id').cache()\n",
    "df_divs_alphas_augm = df_divs_alpha.join(df_topics_sp.select('page_id', col('topics_specific_unique').alias('topic')).distinct(), 'page_id').cache()"
   ]
  },
  {
   "cell_type": "markdown",
   "id": "74f44eb5-c206-4014-b0c4-d4b76a1f2d45",
   "metadata": {
    "jp-MarkdownHeadingCollapsed": true,
    "tags": []
   },
   "source": [
    "## Estimate the loss when matching with topics"
   ]
  },
  {
   "cell_type": "code",
   "execution_count": null,
   "id": "57c1effb-1639-4e5d-a054-7656d310e6df",
   "metadata": {},
   "outputs": [],
   "source": [
    "df_high_volume_augm = df_high_volume.join(df_topics_sp.select('page_id', col('topics_specific_unique').alias('topic')).distinct(), 'page_id').cache()"
   ]
  },
  {
   "cell_type": "code",
   "execution_count": null,
   "id": "b7d3022d-b746-464f-be9f-4fadc3a1e167",
   "metadata": {},
   "outputs": [],
   "source": [
    "df_low_volume_augm = df_low_volume.join(df_topics_sp.select('page_id', col('topics_specific_unique').alias('topic')).distinct(), 'page_id').cache()"
   ]
  },
  {
   "cell_type": "code",
   "execution_count": null,
   "id": "dedf11fc-27f4-40bb-ac92-b6bf3c6d3d3a",
   "metadata": {},
   "outputs": [],
   "source": [
    "dfs_top = dfs.join(df_topics_sp.select('page_id', col('topics_specific_unique').alias('topic')).distinct(), 'page_id').cache()"
   ]
  },
  {
   "cell_type": "code",
   "execution_count": null,
   "id": "5cbcf39d-3492-444e-9dd6-46eac065e658",
   "metadata": {
    "tags": []
   },
   "outputs": [],
   "source": [
    "df_low_volume.count()"
   ]
  },
  {
   "cell_type": "code",
   "execution_count": null,
   "id": "65842d02-8678-454c-871b-0b4d32aa58e4",
   "metadata": {
    "tags": []
   },
   "outputs": [],
   "source": [
    "df_low_volume_augm.count()"
   ]
  },
  {
   "cell_type": "code",
   "execution_count": null,
   "id": "bbd56c5c-9e75-4080-81dc-9bb789121716",
   "metadata": {
    "tags": []
   },
   "outputs": [],
   "source": [
    "454331707 / 475441301 * 100"
   ]
  },
  {
   "cell_type": "code",
   "execution_count": null,
   "id": "81df16fe-4028-4d88-8fe6-504b54f0301f",
   "metadata": {
    "tags": []
   },
   "outputs": [],
   "source": [
    "df_high_volume.count()"
   ]
  },
  {
   "cell_type": "code",
   "execution_count": null,
   "id": "fafccedf-137c-444b-93e7-834e7d15c433",
   "metadata": {
    "tags": []
   },
   "outputs": [],
   "source": [
    "df_high_volume_augm.count()"
   ]
  },
  {
   "cell_type": "code",
   "execution_count": null,
   "id": "ac38edf9-3d6b-4369-aa03-671596ae1d11",
   "metadata": {
    "tags": []
   },
   "outputs": [],
   "source": [
    "60246933/ 61972033 * 100"
   ]
  },
  {
   "cell_type": "markdown",
   "id": "2bfba783-5781-4d86-b3ad-c14a28c85604",
   "metadata": {
    "tags": []
   },
   "source": [
    "# Stable and unstable pages"
   ]
  },
  {
   "cell_type": "code",
   "execution_count": null,
   "id": "3e3249d5-5ab7-4e38-9ba9-39edaf2000d7",
   "metadata": {},
   "outputs": [],
   "source": [
    "from pandas.tseries.offsets import DateOffset\n",
    "def prepare_divs_plot(df_divs_augm, group='date', m=20, ungrouped=False):\n",
    "\n",
    "    # Sample and take max ranks\n",
    "    w = Window.partitionBy(group).orderBy(desc('div'))\n",
    "    df_div_pd = df_divs_augm.withColumn('divr', row_number().over(w)).where(col('divr') < 100).drop('divr').toPandas()\n",
    "    max_rk_1 = df_divs_augm.select(max('rank_1').alias('m_1')).collect()[0]['m_1']\n",
    "    max_rk_2 = df_divs_augm.select(max('rank_2').alias('m_2')).collect()[0]['m_2']\n",
    "\n",
    "    # For labelling\n",
    "    df_div_pd['ranks'] = df_div_pd.apply(lambda r: f\"{int(r['rank_1'])} <> {int(r['rank_2'])}\", axis=1)\n",
    "    # Note the exclusive types with an asterix\n",
    "    df_div_pd['page'] = df_div_pd.apply(\n",
    "        lambda r: r.page + str('*') if ((r['rank_1'] == max_rk_1) | (r['rank_2'] == max_rk_2)) else r.page, axis=1)\n",
    "\n",
    "    # Take the top divergence for both dates\n",
    "    df_div_pd['div_sign'] = df_div_pd.apply(lambda r: (2 * int(r['rank_2'] < r['rank_1']) - 1) * r[f'div'], axis=1)\n",
    "    if ungrouped: \n",
    "        df_plot_head = df_div_pd.sort_values(by=f'div_sign', ascending=False).groupby(group)[['div', 'div_sign', 'page', 'ranks', 'topic', 'date', 'alpha']].head(m//2).reset_index()\n",
    "        df_plot_tail = df_div_pd.sort_values(by=f'div_sign', ascending=False).groupby(group)[['div', 'div_sign', 'page', 'ranks', 'topic', 'date', 'alpha']].tail(m//2).reset_index()\n",
    "        df_plot = pd.concat([df_plot_head, df_plot_tail])\n",
    "    else:\n",
    "        df_plot = df_div_pd.sort_values(by=f'div', ascending=False).groupby(group)[['div', 'div_sign', 'page', 'ranks', 'topic', 'date', 'alpha']].head(m).reset_index()\n",
    "        \n",
    "\n",
    "    # labels\n",
    "    df_plot['month'] = df_plot.apply(lambda r: (pd.to_datetime(r['date'] + '-01') - DateOffset(months=1)).date() if r['div_sign'] < 0 else r['date'] + '-01', axis=1)\n",
    "    return df_plot"
   ]
  },
  {
   "cell_type": "markdown",
   "id": "10a096dd-e6b0-4709-bbff-727948cbb996",
   "metadata": {},
   "source": [
    "## For Dec 2020 - Jan 2021\n",
    "\n",
    "Play with $\\alpha$ parameter. $\\alpha \\to 0$ and $\\alpha \\to \\infty$"
   ]
  },
  {
   "cell_type": "code",
   "execution_count": null,
   "id": "4be2276c-6898-47df-ad8f-3a958b175731",
   "metadata": {
    "tags": []
   },
   "outputs": [],
   "source": [
    "from src.make_and_plot import set_up_mapping\n",
    "color_map = set_up_mapping(grouped=False)"
   ]
  },
  {
   "cell_type": "code",
   "execution_count": null,
   "id": "be16c036-4e4c-4775-bc37-efbf2870dd1c",
   "metadata": {
    "tags": []
   },
   "outputs": [],
   "source": [
    "df_plot_raw = pd.read_csv(\"/scratch/descourt/plots/thesis/divs_alphas.csv.gzip\", compression='gzip')"
   ]
  },
  {
   "cell_type": "code",
   "execution_count": null,
   "id": "3818ae92-f2fb-4dc3-a71a-e327781d60ec",
   "metadata": {},
   "outputs": [],
   "source": [
    "plot_salient(df_plot_raw, group='alpha') # top 20 for each month"
   ]
  },
  {
   "cell_type": "code",
   "execution_count": null,
   "id": "9d9d313c-fe0e-4543-81a6-5e15a5e77f16",
   "metadata": {
    "tags": []
   },
   "outputs": [],
   "source": [
    "df_plot_alphas = prepare_divs_plot(df_divs_alphas_augm, group='alpha', m=25)"
   ]
  },
  {
   "cell_type": "code",
   "execution_count": null,
   "id": "a2d9a243-e2f1-4075-a9ba-c5859ee2c5a6",
   "metadata": {},
   "outputs": [],
   "source": [
    "# TODO uncomment the lines below to plot with matched topics\n",
    "\n",
    "#grp = df_plot_alpha_raw.loc[df_plot_alpha_raw['alpha'] == 0.0]\n",
    "grp = df_plot_alphas.loc[df_plot_alphas['alpha'] == np.inf].sort_values('div', ascending=False)\n",
    "fig = px.bar(grp.sort_values('topic', ascending=False), x='div', y='page', color='topic', pattern_shape='month', orientation='h', text='ranks', color_discrete_map = color_map)\n",
    "#fig = px.bar(grp.sort_values('div', ascending=False).head(25), x='div', y='page', color='month', orientation='h', text='ranks')\n",
    "fig.update_traces(textposition='outside', textfont=dict(size=25))\n",
    "fig.update_layout(height=1000,\n",
    "                  width=2500,\n",
    "                  xaxis_title=dict(text='Divergence', font=dict(size=35)),\n",
    "                  yaxis_title=dict(text='Pages', font=dict(size=35)),\n",
    "                  legend=dict(title='Topics', font=dict(size=33), itemwidth=30, itemsizing='constant'),\n",
    "                yaxis = dict( tickfont = dict(size=25)),\n",
    "                xaxis = dict( tickfont = dict(size=35)),)\n",
    "fig.update_annotations(font_size=15)\n",
    "fig.update_xaxes(range=[0, 0.04]) # TODO to be tuned\n",
    "fig.show()\n",
    "fig.write_image(\"../figures_report/rank_stability/alpha_inf.pdf\")"
   ]
  },
  {
   "cell_type": "markdown",
   "id": "d6e5df6d-65b2-4b35-84f5-8f260d6de045",
   "metadata": {
    "tags": []
   },
   "source": [
    "## Throughout the time \n",
    "\n",
    "$\\alpha = 0.3$"
   ]
  },
  {
   "cell_type": "code",
   "execution_count": null,
   "id": "ddb91c4b-8983-4ad7-bb78-d0cc196ee62d",
   "metadata": {
    "tags": []
   },
   "outputs": [],
   "source": [
    "df_plot_date= prepare_divs_plot(df_divs_augm.withColumn('alpha', lit(0.3)), m=30)"
   ]
  },
  {
   "cell_type": "code",
   "execution_count": null,
   "id": "82610835-87dd-4820-8bc4-c7684876b33f",
   "metadata": {
    "tags": []
   },
   "outputs": [],
   "source": [
    "grp = df_plot_date.loc[df_plot_date['date'] == '2022-02'].sort_values('div', ascending=False)\n",
    "fig = px.bar(grp.sort_values('topic', ascending=False), x='div', y='page', color='topic', pattern_shape='month', orientation='h', text='ranks', color_discrete_map = color_map)\n",
    "#fig = px.bar(grp, x='div', y='page', color='month', orientation='h', text='ranks')\n",
    "fig.update_traces(textposition='outside', textfont=dict(size=25))\n",
    "fig.update_layout(height=1000,\n",
    "                  width=2500,\n",
    "                  xaxis_title=dict(text='Divergence', font=dict(size=30)),\n",
    "                  yaxis_title=dict(text='Pages', font=dict(size=30)),\n",
    "                  legend=dict(title='Topics', font=dict(size=26)),\n",
    "                yaxis = dict( tickfont = dict(size=22)),\n",
    "                xaxis = dict( tickfont = dict(size=30)),)\n",
    "fig.update_annotations(font_size=19)\n",
    "fig.update_xaxes(range=[0, 27*1e-6])\n",
    "fig.show()\n",
    "fig.write_image(\"../figures_report/rank_stability/date_Ukraine.pdf\")"
   ]
  },
  {
   "cell_type": "markdown",
   "id": "62533fa4-d7f0-4c45-9ac6-6ba21bf4ca62",
   "metadata": {
    "jp-MarkdownHeadingCollapsed": true,
    "tags": []
   },
   "source": [
    "## Core stability across time\n",
    "\n",
    "Plot core divergence score across time. "
   ]
  },
  {
   "cell_type": "code",
   "execution_count": null,
   "id": "35492782-9a57-4422-b7cf-16cf9f5ed755",
   "metadata": {
    "tags": []
   },
   "outputs": [],
   "source": [
    "df_core_stab = df_divs.groupBy('date').agg(sum('div').alias('div_sum')).toPandas()"
   ]
  },
  {
   "cell_type": "code",
   "execution_count": null,
   "id": "df1c9581-a401-4a60-8e70-5e687a288809",
   "metadata": {
    "tags": []
   },
   "outputs": [],
   "source": [
    "fig = px.line(df_core_stab.sort_values('date'), x='date', y='div_sum')\n",
    "fig.update_layout(width = 1000,\n",
    "    xaxis_title=dict(text='Date', font=dict(size=20)),\n",
    "    yaxis_title=dict(text='Total divergence', font=dict(size=20)),\n",
    "    yaxis = dict( tickfont = dict(size=20)),\n",
    "    xaxis = dict( tickfont = dict(size=20)),\n",
    "    height=600)\n",
    "fig.show()\n",
    "fig.write_image(\"figures_report/rank_stability/core_div_ev.pdf\")"
   ]
  },
  {
   "cell_type": "code",
   "execution_count": null,
   "id": "11051fee-51d4-41fc-9f6a-073242b77ff3",
   "metadata": {},
   "outputs": [],
   "source": []
  }
 ],
 "metadata": {
  "kernelspec": {
   "display_name": "Python 3 (ipykernel)",
   "language": "python",
   "name": "python3"
  },
  "language_info": {
   "codemirror_mode": {
    "name": "ipython",
    "version": 3
   },
   "file_extension": ".py",
   "mimetype": "text/x-python",
   "name": "python",
   "nbconvert_exporter": "python",
   "pygments_lexer": "ipython3",
   "version": "3.10.9"
  },
  "toc-autonumbering": true,
  "widgets": {
   "application/vnd.jupyter.widget-state+json": {
    "state": {},
    "version_major": 2,
    "version_minor": 0
   }
  }
 },
 "nbformat": 4,
 "nbformat_minor": 5
}
