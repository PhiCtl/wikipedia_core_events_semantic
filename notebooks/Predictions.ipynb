{
 "cells": [
  {
   "cell_type": "markdown",
   "id": "c03270ac-fdd6-43f2-a2bb-9246f5fbcc62",
   "metadata": {},
   "source": [
    "# Pyspark set up and data downloading"
   ]
  },
  {
   "cell_type": "code",
   "execution_count": null,
   "id": "da2815e6-41cf-4f23-85d8-b59ade20660a",
   "metadata": {
    "tags": []
   },
   "outputs": [],
   "source": [
    "import os\n",
    "os.environ[\"JAVA_HOME\"] = \"/lib/jvm/java-11-openjdk-amd64\"\n",
    "\n",
    "# Because otherwise custom modules import errors\n",
    "import sys\n",
    "sys.path.append('../')\n",
    "os.makedirs(\"../figures_report/enrich_dataset\", exist_ok=True)\n",
    "\n",
    "import pandas as pd\n",
    "import numpy as np\n",
    "import matplotlib.pyplot as plt\n",
    "%matplotlib inline\n",
    "\n",
    "from itertools import chain\n",
    "\n",
    "import pyspark\n",
    "from pyspark.sql import *\n",
    "from pyspark.sql.functions import *\n",
    "from pyspark import SparkContext\n",
    "\n",
    "import plotly.graph_objs as go\n",
    "import plotly.offline as py\n",
    "import plotly.express as px\n",
    "\n"
   ]
  },
  {
   "cell_type": "code",
   "execution_count": null,
   "id": "f72652bb-4344-4973-af2b-283fce959a84",
   "metadata": {
    "tags": []
   },
   "outputs": [],
   "source": [
    "from src.ranking_helpers import *\n",
    "from src.make_and_plot import *\n",
    "from src.pages_groups_extraction import *\n",
    "from src.data_aggregation import*"
   ]
  },
  {
   "cell_type": "code",
   "execution_count": null,
   "id": "e8b8a7ce-c4fa-44c2-927e-87d0a1dd7441",
   "metadata": {
    "tags": []
   },
   "outputs": [],
   "source": [
    "conf = pyspark.SparkConf().setMaster(\"local[5]\").setAll([\n",
    "                                   ('spark.driver.memory','120G'),\n",
    "                                   ('spark.executor.memory', '120G'),\n",
    "                                   ('spark.driver.maxResultSize', '0'),\n",
    "                                    ('spark.executor.cores', '5'),\n",
    "                                    ('spark.local.dir', '/scratch/descourt/spark')\n",
    "                                ])\n",
    "# create the session\n",
    "spark = SparkSession.builder.config(conf=conf).getOrCreate()\n",
    "# create the context\n",
    "sc = spark.sparkContext\n",
    "sc.setLogLevel('ERROR')"
   ]
  },
  {
   "cell_type": "code",
   "execution_count": null,
   "id": "2c7ca5df-67c0-4300-8a6f-d8a8532470aa",
   "metadata": {},
   "outputs": [],
   "source": [
    "dfs = spark.read.parquet(\"/scratch/descourt/processed_data/en/pageviews_en_2015-2023.parquet\").withColumn('project', lit('en'))"
   ]
  },
  {
   "cell_type": "code",
   "execution_count": null,
   "id": "30a80e2f-c5a5-4927-8259-3d001808f29c",
   "metadata": {
    "tags": []
   },
   "outputs": [],
   "source": [
    "df_high_volume = extract_volume(dfs, high=True).filter('date = \"2022-11\"').select('page_id').cache()"
   ]
  },
  {
   "cell_type": "code",
   "execution_count": null,
   "id": "3732fce5-752d-4389-91c5-96ab7d369a58",
   "metadata": {
    "tags": []
   },
   "outputs": [],
   "source": [
    "df_low_volume = extract_volume(dfs, high=False).filter('date = \"2022-11\"').select('page_id').cache()"
   ]
  },
  {
   "cell_type": "markdown",
   "id": "7588a72d-1469-46a4-9d42-f24be4b90aae",
   "metadata": {},
   "source": [
    "## Additional datasets"
   ]
  },
  {
   "cell_type": "code",
   "execution_count": null,
   "id": "74da30a1-f000-4bd6-a2a1-33a0fb5d4354",
   "metadata": {
    "tags": []
   },
   "outputs": [],
   "source": [
    "df_topics_sp = spark.read.parquet('/scratch/descourt/metadata/topics/topic_en/topics-enwiki-20230320-parsed.parquet')"
   ]
  },
  {
   "cell_type": "code",
   "execution_count": null,
   "id": "1d7f30ef-9c16-46b4-bab2-bbe2fe960ee7",
   "metadata": {
    "tags": []
   },
   "outputs": [],
   "source": [
    "df_metadata = spark.read.parquet('/scratch/descourt/metadata/akhils_data/wiki_nodes_bsdk_phili_2022-11_en.parquet')"
   ]
  },
  {
   "cell_type": "code",
   "execution_count": null,
   "id": "ff55bd11-be0c-4b1f-b9d0-3e69883dfcdd",
   "metadata": {
    "tags": []
   },
   "outputs": [],
   "source": [
    "df_metadata.where(~col('page_creation_timestamp').isNull()).count()"
   ]
  },
  {
   "cell_type": "code",
   "execution_count": null,
   "id": "e0163f69-042a-4465-b194-920dc1993801",
   "metadata": {
    "tags": []
   },
   "outputs": [],
   "source": [
    "df_nodes = spark.read.parquet('/scratch/descourt/metadata/akhils_data/wiki_nodes_2022-11_en.parquet')"
   ]
  },
  {
   "cell_type": "code",
   "execution_count": null,
   "id": "069701f1-b0b6-458b-b1f3-e2290e19b7c4",
   "metadata": {
    "tags": []
   },
   "outputs": [],
   "source": [
    "with open(\"wikipedia_core_events_semantic/topics_list.txt\", 'r') as f:\n",
    "    lines = f.read()\n",
    "topics_list = lines.replace('\\n', '').replace(\"'\", '').split(',')\n",
    "topics_mapping = {t: i for t, i in zip(topics_list, range(len(topics_list)))}\n",
    "topics_mapping_sp = create_map([lit(x) for x in chain(*topics_mapping.items())])"
   ]
  },
  {
   "cell_type": "code",
   "execution_count": null,
   "id": "de6e422d-d951-464d-a8bc-fb7da84a194f",
   "metadata": {
    "tags": []
   },
   "outputs": [],
   "source": [
    "topics = df_topics_sp.select('page_id', col('topics_specific_unique').alias('topic')).distinct()\\\n",
    "                     .withColumn('topic', topics_mapping_sp[col(\"topic\")]).cache()"
   ]
  },
  {
   "cell_type": "markdown",
   "id": "f50a1f29-d8e5-436e-905f-2c872d16f31e",
   "metadata": {},
   "source": [
    "# Prepare dataset"
   ]
  },
  {
   "cell_type": "code",
   "execution_count": null,
   "id": "8b258f4d-9bdc-4521-a960-ae6b97cc00aa",
   "metadata": {
    "tags": []
   },
   "outputs": [],
   "source": [
    "df_high_volume = df_high_volume.join(df_metadata.drop('wiki_db', 'item_id', 'page_title', 'page_creation_unix', 'page_creation_timestamp'), 'page_id')\\\n",
    "                               .join(df_nodes.drop('wiki_db', 'item_id', 'page_title'), 'page_id')\\\n",
    "                               .withColumn('is_core', lit(1))\\\n",
    "                               .withColumn('age_in_months',\n",
    "                                           months_between(to_date(lit(\"2022-11\"), 'yyyy-MM'),col('creation_date'))).cache()\n",
    "df_low_volume = df_low_volume.join(df_metadata.drop('wiki_db', 'item_id', 'page_title', 'page_creation_unix', 'page_creation_timestamp'), 'page_id')\\\n",
    "                               .join(df_nodes.drop('wiki_db', 'item_id', 'page_title'), 'page_id')\\\n",
    "                               .withColumn('is_core', lit(0))\\\n",
    "                               .withColumn('age_in_months',\n",
    "                                           months_between(to_date(lit(\"2022-11\"), 'yyyy-MM'),col('creation_date'))).cache()"
   ]
  },
  {
   "cell_type": "code",
   "execution_count": null,
   "id": "5b093d22-b6d5-4c58-93e1-7decd71b90a7",
   "metadata": {
    "tags": []
   },
   "outputs": [],
   "source": [
    "df_all = df_high_volume.unionAll(df_low_volume).dropna()"
   ]
  },
  {
   "cell_type": "code",
   "execution_count": null,
   "id": "2e1b2763-b432-46c5-8e38-c5ef8d1afa42",
   "metadata": {
    "tags": []
   },
   "outputs": [],
   "source": [
    "from pyspark.ml.feature import VectorAssembler\n",
    "\n",
    "# Gather features into vector\n",
    "numericCols =  ['is_orphan', 'is_bot_created', 'pred_qual', 'in_main', 'out_main', 'age_in_months'] # 'is_disambiguation']\n",
    "assembler = VectorAssembler(inputCols=numericCols, outputCol=\"features\")\n",
    "df_all = assembler.transform(df_all)"
   ]
  },
  {
   "cell_type": "code",
   "execution_count": null,
   "id": "d771f0a5-ad44-4b1d-9edc-8bad77cce13b",
   "metadata": {
    "tags": []
   },
   "outputs": [],
   "source": [
    "# Split into train test\n",
    "train, test = df_all.randomSplit([0.7, 0.3], seed = 2023)"
   ]
  },
  {
   "cell_type": "code",
   "execution_count": null,
   "id": "6a707d82-1d74-4f0c-ad34-c08fb47ae939",
   "metadata": {
    "tags": []
   },
   "outputs": [],
   "source": [
    "train = train.withColumn('weightCol', when(col('is_core') == 1, 1 / 0.24).otherwise(1 / 1.76))"
   ]
  },
  {
   "cell_type": "markdown",
   "id": "ca3128a7-b00d-4659-b08b-6dd1e3c98347",
   "metadata": {},
   "source": [
    "# Training\n",
    "\n",
    "* 1 shot\n",
    "* cross validation"
   ]
  },
  {
   "cell_type": "code",
   "execution_count": null,
   "id": "fd2381e1-c6e7-4bd9-8262-7c009790250d",
   "metadata": {
    "tags": []
   },
   "outputs": [],
   "source": [
    "from pyspark.ml.classification import RandomForestClassifier, LogisticRegression\n",
    "from pyspark.ml.tuning import CrossValidator, ParamGridBuilder, CrossValidatorModel\n",
    "from pyspark.ml.evaluation import MulticlassClassificationEvaluator, BinaryClassificationEvaluator\n",
    "# mllib = RDD ! \n",
    "from pyspark.mllib.evaluation import MulticlassMetrics\n",
    "from pyspark.sql.types import FloatType\n",
    "from pyspark.ml.feature import VectorSlicer\n",
    "\n",
    "from pyspark.ml.regression import LinearRegression"
   ]
  },
  {
   "cell_type": "markdown",
   "id": "75c1ba80-d1a6-467f-b22f-d12f6c2371ab",
   "metadata": {
    "tags": []
   },
   "source": [
    "## Random forest"
   ]
  },
  {
   "cell_type": "markdown",
   "id": "a8edaac8-042b-41e1-bfc1-daf1cc20e401",
   "metadata": {},
   "source": [
    "### CV and best model selection"
   ]
  },
  {
   "cell_type": "code",
   "execution_count": null,
   "id": "5a2a76dd-740b-480e-8a56-d015f9eac02d",
   "metadata": {
    "tags": []
   },
   "outputs": [],
   "source": [
    "rf = RandomForestClassifier(featuresCol = 'features', labelCol = 'is_core', weightCol='weightCol')"
   ]
  },
  {
   "cell_type": "code",
   "execution_count": null,
   "id": "05d8d9f3-e7af-4a7f-ba3b-14a7ab4054c9",
   "metadata": {
    "tags": []
   },
   "outputs": [],
   "source": [
    "paramGrid = (ParamGridBuilder()\\\n",
    "            .addGrid(rf.maxDepth, [5, 10, 15])\n",
    "            .addGrid(rf.numTrees,[5, 20, 50])\n",
    "            .build())\n",
    "\n",
    "crossval_rf = CrossValidator(estimator=rf,\n",
    "                             estimatorParamMaps=paramGrid,\n",
    "                             evaluator=MulticlassClassificationEvaluator(labelCol=\"is_core\", predictionCol=\"prediction\", metricName='f1'), #, metricLabel=1.0),\n",
    "                             numFolds=3)\n",
    "fitModelRF2 = crossval_rf.fit(train)\n",
    "BestModelRF2= fitModelRF2.bestModel"
   ]
  },
  {
   "cell_type": "code",
   "execution_count": null,
   "id": "21512256-29db-46a3-868a-4671821adc32",
   "metadata": {},
   "outputs": [],
   "source": [
    "BestModelRF.explainParam('maxDepth')"
   ]
  },
  {
   "cell_type": "code",
   "execution_count": null,
   "id": "87608098-5eac-4b15-b8c0-97233f79a382",
   "metadata": {
    "tags": []
   },
   "outputs": [],
   "source": [
    "BestModelRF.explainParam('numTrees')"
   ]
  },
  {
   "cell_type": "markdown",
   "id": "ea12974c-05e9-4505-95a3-39309b62d823",
   "metadata": {
    "tags": []
   },
   "source": [
    "## Logistic regression"
   ]
  },
  {
   "cell_type": "markdown",
   "id": "a213ac51-dbc0-486e-9be4-9ea956b4157f",
   "metadata": {},
   "source": [
    "### CV and best model selection"
   ]
  },
  {
   "cell_type": "code",
   "execution_count": null,
   "id": "9a995f83-9704-459d-8bc0-63aa74d4b606",
   "metadata": {
    "tags": []
   },
   "outputs": [],
   "source": [
    "lr = LogisticRegression(featuresCol = 'features', labelCol = 'is_core', weightCol='weightCol')"
   ]
  },
  {
   "cell_type": "code",
   "execution_count": null,
   "id": "6930ba5d-2de0-4df0-b528-981bba3923bd",
   "metadata": {
    "tags": []
   },
   "outputs": [],
   "source": [
    "paramGridLR = (ParamGridBuilder()\\\n",
    "                .addGrid(lr.regParam, [0, 0.01, 0.1])\n",
    "                .addGrid(lr.elasticNetParam, [0, 0.01, 0.1])\n",
    "                .build())\n",
    "\n",
    "crossval_lr = CrossValidator(estimator=lr,\n",
    "                             estimatorParamMaps=paramGridLR,\n",
    "                             evaluator=MulticlassClassificationEvaluator(labelCol=\"is_core\", predictionCol=\"prediction\", metricName='f1'), # metricName='truePositiveRateByLabel',  metricLabel=1.0),\n",
    "                             numFolds=3)\n",
    "fitModelLR = crossval_lr.fit(train)\n",
    "BestModelLR= fitModelLR.bestModel"
   ]
  },
  {
   "cell_type": "code",
   "execution_count": null,
   "id": "89db6a9e-6a7d-4622-930d-0e66381bdacc",
   "metadata": {
    "tags": []
   },
   "outputs": [],
   "source": [
    "BestModelLR.explainParam('regParam')"
   ]
  },
  {
   "cell_type": "code",
   "execution_count": null,
   "id": "7eda2a61-765d-474d-afaf-2936ef780bd5",
   "metadata": {
    "tags": []
   },
   "outputs": [],
   "source": [
    "BestModelLR.explainParam('elasticNetParam')"
   ]
  },
  {
   "cell_type": "markdown",
   "id": "267da1b9-ccfa-4bc5-9b79-2c992d202de3",
   "metadata": {
    "tags": []
   },
   "source": [
    "# Evaluation\n",
    "\n",
    "* Features importance\n",
    "* Accuracy\n",
    "* Confusion matrix -> because highly unbalanced"
   ]
  },
  {
   "cell_type": "code",
   "execution_count": null,
   "id": "6080a7a9-f5e8-421a-b9fb-0b12d41b8582",
   "metadata": {
    "tags": []
   },
   "outputs": [],
   "source": [
    "def evaluate(predictions, evaluator):\n",
    "    accuracy = evaluator.evaluate(predictions, {evaluator.metricName: \"accuracy\"})\n",
    "    print(\"Accuracy = %s\" % (accuracy))\n",
    "    print(\"Test Error = %s\" % (1.0 - accuracy))\n",
    "    f1 = evaluator.evaluate(predictions, {evaluator.metricName: \"f1\"}) # Weighted precision and recall metric\n",
    "    print(\"F1 score = %s\" % (f1))\n",
    "    p = evaluator.evaluate(predictions, {evaluator.metricName: \"weightedPrecision\"}) # How many retrieved items are relevant : TP / TP + FP\n",
    "    print(\"Precision = %s\" % (p))\n",
    "    r = evaluator.evaluate(predictions, {evaluator.metricName: \"weightedRecall\"}) # How many relevant items are retrieved : TP / TP + FN\n",
    "    print(\"Recall = %s\" % (r))"
   ]
  },
  {
   "cell_type": "code",
   "execution_count": null,
   "id": "46da9ee7-7f28-42bc-b7e9-a43583e3242b",
   "metadata": {
    "tags": []
   },
   "outputs": [],
   "source": [
    "evaluator = MulticlassClassificationEvaluator(labelCol=\"is_core\", predictionCol=\"prediction\")"
   ]
  },
  {
   "cell_type": "markdown",
   "id": "b437c167-c485-44a4-ac2d-2e521104c7f5",
   "metadata": {},
   "source": [
    "## Random forest"
   ]
  },
  {
   "cell_type": "code",
   "execution_count": null,
   "id": "bcc48214-0a59-472a-863f-5213cd1f3035",
   "metadata": {
    "tags": []
   },
   "outputs": [],
   "source": [
    "bestPredictions = BestModelRF.transform(test)"
   ]
  },
  {
   "cell_type": "code",
   "execution_count": null,
   "id": "6f2f7410-5393-48a8-a0fc-f997f4ea3a3a",
   "metadata": {
    "tags": []
   },
   "outputs": [],
   "source": [
    "df_features = pd.DataFrame({'importance': BestModelRF.featureImportances.toArray(), 'features': numericCols})\n",
    "df_features.sort_values('importance', ascending=False)"
   ]
  },
  {
   "cell_type": "code",
   "execution_count": null,
   "id": "b29046ce-00a1-413f-bf98-f41fdf9bc0dd",
   "metadata": {
    "tags": []
   },
   "outputs": [],
   "source": [
    "df_features['text'] = df_features['importance'].apply(lambda i : np.round(i * 100) / 100)\n",
    "fig = px.bar(df_features.sort_values('importance'), x='importance', y='features', orientation='h', text='text')\n",
    "fig.update_layout(\n",
    "     height=600,\n",
    "                  width=600,\n",
    "                  yaxis_title=dict(font=dict(size=20), text='Features'),\n",
    "                  xaxis_title=dict(font=dict(size=20), text='Features importance'),\n",
    "                yaxis = dict( tickfont = dict(size=20)),\n",
    "                xaxis = dict( tickfont = dict(size=20)),)\n",
    "\n",
    "fig.update_traces(textposition='outside', textfont=dict(size=20))\n",
    "fig.update_xaxes(range=[0, 0.65])\n",
    "fig.show()\n",
    "fig.write_image(\"../figures_report/enrich_dataset/rf_feat.pdf\")"
   ]
  },
  {
   "cell_type": "code",
   "execution_count": null,
   "id": "9d3feded-411e-446b-8256-9ae6f56cacbf",
   "metadata": {
    "tags": []
   },
   "outputs": [],
   "source": [
    "evaluate(bestPredictions, evaluator)"
   ]
  },
  {
   "cell_type": "code",
   "execution_count": null,
   "id": "26fa29c0-b6d3-4df6-accd-a1307f3a6b1a",
   "metadata": {
    "tags": []
   },
   "outputs": [],
   "source": [
    "preds_and_labels = bestPredictions.select(['prediction','is_core']).withColumn('is_core', col('is_core').cast(FloatType())).orderBy('prediction')\n",
    "preds_and_labels = preds_and_labels.select(['prediction','is_core'])\n",
    "metrics = MulticlassMetrics(preds_and_labels.rdd.map(tuple))\n",
    "confmat_rf = metrics.confusionMatrix().toArray()\n",
    "print(metrics.confusionMatrix().toArray())"
   ]
  },
  {
   "cell_type": "code",
   "execution_count": null,
   "id": "68352650-bd53-4d98-8e83-506ad44ff409",
   "metadata": {
    "tags": []
   },
   "outputs": [],
   "source": [
    "print(\"True Negative Rate % s\" % (confmat_rf[0][0] / (confmat_rf[0][0] + confmat_rf[1][0])))"
   ]
  },
  {
   "cell_type": "code",
   "execution_count": null,
   "id": "18789eb1-6fc3-47da-b3ec-ee35d712e02f",
   "metadata": {
    "tags": []
   },
   "outputs": [],
   "source": [
    "print(\"True Positive Rate % s\" % (confmat_rf[1][1] / (confmat_rf[1][0] + confmat_rf[1][1])))"
   ]
  },
  {
   "cell_type": "markdown",
   "id": "779d8c88-55f9-4a19-b8db-015039a03e7f",
   "metadata": {},
   "source": [
    "## Logistic regression"
   ]
  },
  {
   "cell_type": "code",
   "execution_count": null,
   "id": "5bf47c7a-5077-478f-ad05-f9b15e333604",
   "metadata": {
    "tags": []
   },
   "outputs": [],
   "source": [
    "bestPredictionsLR = BestModelLR.transform(test)"
   ]
  },
  {
   "cell_type": "code",
   "execution_count": null,
   "id": "51e02903-64a0-4c7b-b4ec-c33407aab765",
   "metadata": {
    "tags": []
   },
   "outputs": [],
   "source": [
    "df_features_lr = pd.DataFrame({'importance': BestModelLR.coefficients.toArray(), 'features': numericCols})\n",
    "df_features_lr.sort_values('importance', ascending=False)"
   ]
  },
  {
   "cell_type": "code",
   "execution_count": null,
   "id": "9c3b82dd-839b-44b4-8439-5171df7b8dd8",
   "metadata": {
    "tags": []
   },
   "outputs": [],
   "source": [
    "df_features_lr['text'] = df_features_lr['importance'].apply(lambda i : np.round(i * 100) / 100)\n",
    "fig = px.bar(df_features_lr.sort_values('importance'), x='importance', y='features', orientation='h', text='text')\n",
    "fig.update_layout(\n",
    "     height=600,\n",
    "                  width=600,\n",
    "                  yaxis_title=dict(font=dict(size=20), text='Features'),\n",
    "                  xaxis_title=dict(font=dict(size=20), text='Features importance'),\n",
    "                yaxis = dict( tickfont = dict(size=20)),\n",
    "                xaxis = dict( tickfont = dict(size=20)),)\n",
    "\n",
    "fig.update_traces(textposition='outside', textfont=dict(size=20))\n",
    "fig.update_xaxes(range=[-5, 9])\n",
    "fig.show()\n",
    "fig.write_image(\"../figures_report/enrich_dataset/lr_feat.pdf\")"
   ]
  },
  {
   "cell_type": "code",
   "execution_count": null,
   "id": "782bed3b-c48c-411d-a6d5-c03b18239cb9",
   "metadata": {
    "tags": []
   },
   "outputs": [],
   "source": [
    "evaluate(bestPredictionsLR, evaluator)\n",
    "\n",
    "preds_and_labels = bestPredictionsLR.select(['prediction','is_core']).withColumn('is_core', col('is_core').cast(FloatType())).orderBy('prediction')\n",
    "preds_and_labels = preds_and_labels.select(['prediction','is_core'])\n",
    "metrics = MulticlassMetrics(preds_and_labels.rdd.map(tuple))\n",
    "confmat = metrics.confusionMatrix().toArray()\n",
    "print(\"True Negative Rate % s\" % (confmat[0][0] / (confmat[0][0] + confmat[1][0])))\n",
    "print(\"True Positive Rate % s\" % (confmat[1][1] / (confmat[1][0] + confmat[1][1])))"
   ]
  },
  {
   "cell_type": "markdown",
   "id": "fa44d092-bc13-437d-a8cc-db2a3fcf14e0",
   "metadata": {
    "tags": []
   },
   "source": [
    "# Linear Regression"
   ]
  },
  {
   "cell_type": "markdown",
   "id": "bcc8cf7f-3314-4d53-ba36-4b1a250dd7b7",
   "metadata": {},
   "source": [
    "## Train"
   ]
  },
  {
   "cell_type": "code",
   "execution_count": null,
   "id": "2e434608-e27b-43c4-84b2-1a3d9b03a5b1",
   "metadata": {
    "tags": []
   },
   "outputs": [],
   "source": [
    "from pyspark.ml.regression import GeneralizedLinearRegression"
   ]
  },
  {
   "cell_type": "code",
   "execution_count": null,
   "id": "ae6cce7f-d635-45bf-9521-84516cf8432a",
   "metadata": {},
   "outputs": [],
   "source": [
    "glr = GeneralizedLinearRegression(featuresCol = 'features', labelCol='is_core', weightCol='weightCol', family='binomial', link='logit')\n",
    "glr_model = glr.fit(train)"
   ]
  },
  {
   "cell_type": "markdown",
   "id": "07902a96-cf64-4919-9f19-e280cf86aefc",
   "metadata": {},
   "source": [
    "## Evaluate"
   ]
  },
  {
   "cell_type": "code",
   "execution_count": null,
   "id": "03f8f23d-de69-4142-bb9b-69dc8b84dc84",
   "metadata": {},
   "outputs": [],
   "source": [
    "glr_model.summary"
   ]
  },
  {
   "cell_type": "code",
   "execution_count": null,
   "id": "afdba0ec-1dd8-4d5a-b32c-af9cc96a31e7",
   "metadata": {
    "tags": []
   },
   "outputs": [],
   "source": [
    "print(f\"$\\chi^2$ test : {glr_model.summary.nullDeviance - glr_model.summary.deviance}\")"
   ]
  },
  {
   "cell_type": "code",
   "execution_count": null,
   "id": "7b67a491-d6bd-4e1f-9cd2-bb619cf2ba41",
   "metadata": {},
   "outputs": [],
   "source": []
  }
 ],
 "metadata": {
  "kernelspec": {
   "display_name": "Python 3 (ipykernel)",
   "language": "python",
   "name": "python3"
  },
  "language_info": {
   "codemirror_mode": {
    "name": "ipython",
    "version": 3
   },
   "file_extension": ".py",
   "mimetype": "text/x-python",
   "name": "python",
   "nbconvert_exporter": "python",
   "pygments_lexer": "ipython3",
   "version": "3.10.9"
  },
  "widgets": {
   "application/vnd.jupyter.widget-state+json": {
    "state": {},
    "version_major": 2,
    "version_minor": 0
   }
  }
 },
 "nbformat": 4,
 "nbformat_minor": 5
}
