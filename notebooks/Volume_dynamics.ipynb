{
 "cells": [
  {
   "cell_type": "markdown",
   "id": "fac4d92f-1670-4b31-9443-8992abf615f2",
   "metadata": {},
   "source": [
    "# Imports and data"
   ]
  },
  {
   "cell_type": "code",
   "execution_count": null,
   "id": "f15f95fb-e3cb-44ef-a245-a19202cd6d8d",
   "metadata": {
    "scrolled": true,
    "tags": []
   },
   "outputs": [],
   "source": [
    "import os\n",
    "os.environ[\"JAVA_HOME\"] = \"/lib/jvm/java-11-openjdk-amd64\"\n",
    "# Because otherwise custom modules import errors\n",
    "import sys\n",
    "from tqdm import tqdm\n",
    "sys.path.append('../')\n",
    "os.makedirs('../figures_report/volume_dynamics', exist_ok=True)\n",
    "os.makedirs('../interm_results/volume_dynamics', exist_ok=True)\n",
    "import random"
   ]
  },
  {
   "cell_type": "code",
   "execution_count": null,
   "id": "8781674e-8335-4f9c-be40-a740e40a6bac",
   "metadata": {
    "tags": []
   },
   "outputs": [],
   "source": [
    "import pandas as pd\n",
    "import numpy as np\n",
    "import matplotlib.pyplot as plt\n",
    "from matplotlib import cm\n",
    "%matplotlib inline\n",
    "\n",
    "from pyspark.sql.functions import *\n",
    "from pyspark import SparkContext\n",
    "from pyspark.sql.types import ArrayType, IntegerType\n",
    "\n",
    "import plotly.graph_objs as go\n",
    "import plotly.express as px\n",
    "\n",
    "from scipy import stats\n",
    "from scipy import spatial"
   ]
  },
  {
   "cell_type": "code",
   "execution_count": null,
   "id": "b7ae0b1b-d66d-4688-bd37-3166fc1043ed",
   "metadata": {
    "tags": []
   },
   "outputs": [],
   "source": [
    "from more_itertools import consecutive_groups\n",
    "from itertools import chain"
   ]
  },
  {
   "cell_type": "code",
   "execution_count": null,
   "id": "6f345339-55c0-404d-8e43-5bca6d9b4b56",
   "metadata": {
    "tags": []
   },
   "outputs": [],
   "source": [
    "import pyspark"
   ]
  },
  {
   "cell_type": "code",
   "execution_count": null,
   "id": "1068f837-c8da-4b5c-9bf1-d02b67c1219f",
   "metadata": {
    "tags": []
   },
   "outputs": [],
   "source": [
    "from src.ranking_helpers import *\n",
    "from src.make_and_plot import*\n",
    "from src.pages_groups_extraction import*\n",
    "from src.data_aggregation import*"
   ]
  },
  {
   "cell_type": "markdown",
   "id": "d828c5e9-48ac-4781-85fe-c47d4e7466a6",
   "metadata": {
    "tags": []
   },
   "source": [
    "## Initialize context "
   ]
  },
  {
   "cell_type": "code",
   "execution_count": null,
   "id": "ad326418-9950-4178-ad7a-320c7295dc31",
   "metadata": {
    "tags": []
   },
   "outputs": [],
   "source": [
    "conf = pyspark.SparkConf().setMaster(\"local[5]\").setAll([\n",
    "                                   ('spark.driver.memory','120G'),\n",
    "                                   ('spark.executor.memory', '120G'),\n",
    "                                   ('spark.driver.maxResultSize', '0'),\n",
    "                                    ('spark.executor.cores', '5'),\n",
    "                                    ('spark.local.dir', '/scratch/descourt/spark')\n",
    "                                ])\n",
    "# create the session\n",
    "spark = SparkSession.builder.config(conf=conf).getOrCreate()\n",
    "# create the context\n",
    "sc = spark.sparkContext\n",
    "sc.setLogLevel('ERROR')"
   ]
  },
  {
   "cell_type": "markdown",
   "id": "4b2b320f-80e9-4007-94f4-9e98178a5e88",
   "metadata": {},
   "source": [
    "## Download data"
   ]
  },
  {
   "cell_type": "markdown",
   "id": "cabc618d-0ed7-4a5e-baaa-3cbf9abd6b3b",
   "metadata": {},
   "source": [
    "Note : the French processed data is stored under `processed_data/fr/pageviews_fr_2015-2023.parquet`. If you want to use it, you should be careful to the language specific analysis cells and plot paths !"
   ]
  },
  {
   "cell_type": "code",
   "execution_count": null,
   "id": "ff75ff2c-0d71-44fb-b355-d4396872c350",
   "metadata": {
    "tags": []
   },
   "outputs": [],
   "source": [
    "dfs = spark.read.parquet(\"/scratch/descourt/processed_data/en/pageviews_en_2015-2023.parquet\").withColumn('date', to_date(col('date'), 'yyyy-MM')).withColumn('project', lit('en'))"
   ]
  },
  {
   "cell_type": "code",
   "execution_count": null,
   "id": "49c97dff-41a5-4d97-93c3-5cb185e9feeb",
   "metadata": {
    "tags": []
   },
   "outputs": [],
   "source": [
    "dfs_uptonov = dfs.where(dfs.date <= to_date(lit('2022-11'), 'yyyy-MM')).cache()"
   ]
  },
  {
   "cell_type": "code",
   "execution_count": null,
   "id": "1bc885f7-976e-4135-8695-1d393ba40652",
   "metadata": {
    "tags": []
   },
   "outputs": [],
   "source": [
    "df_metadata = spark.read.parquet('/scratch/descourt/metadata/akhils_data/wiki_nodes_bsdk_phili_2022-11_en.parquet').withColumn('creation_date', to_date(col('creation_date'), 'yyyy-MM'))"
   ]
  },
  {
   "cell_type": "code",
   "execution_count": null,
   "id": "0f039cfc-c816-4360-9586-075b8fbc5bc0",
   "metadata": {
    "tags": []
   },
   "outputs": [],
   "source": [
    "dfs_change = spark.read.parquet(\"/scratch/descourt/processed_data/en/pageviews_en_articles_ev_2023-03.parquet\")"
   ]
  },
  {
   "cell_type": "markdown",
   "id": "aa7b963d-f126-4bba-b92e-2531e7b7d502",
   "metadata": {
    "jp-MarkdownHeadingCollapsed": true,
    "tags": []
   },
   "source": [
    "## Match page id changes \n",
    "\n",
    "Over time, a given article page id might change. We won't be taking care of it here since it represents a minority fraction of the articles. But we'll leave it here to understand why some pages are missing when matching our data with metadata, and which kind of pages it represents"
   ]
  },
  {
   "cell_type": "code",
   "execution_count": null,
   "id": "0d97e338-e488-469b-a7bf-1b82cebe3b8d",
   "metadata": {
    "tags": []
   },
   "outputs": [],
   "source": [
    "dfs_change = spark.read.parquet(\"/scratch/descourt/processed_data/en/pageviews_en_articles_ev_2022-11.parquet\")\\\n",
    "                       .select(to_date(col('last_date'), 'yyyy-MM').alias('last_date'),\n",
    "                               to_date(col('first_date'), 'yyyy-MM').alias('first_date'),\n",
    "                              'page_ids',\n",
    "                              'last_page_id',\n",
    "                              'last_name')"
   ]
  },
  {
   "cell_type": "code",
   "execution_count": null,
   "id": "23d48985-0028-4ec4-96f4-48c62c59858c",
   "metadata": {},
   "outputs": [],
   "source": [
    "dfs_change_missing = dfs_uptonov.join(df_metadata, on = 'page_id', how='leftanti')\\\n",
    "                                .join(dfs_change, dfs_change.page_ids == dfs_uptonov.page_id)\\\n",
    "                                .withColumn('age_in_months', months_between('date', 'first_date')).cache()"
   ]
  },
  {
   "cell_type": "code",
   "execution_count": null,
   "id": "951c2ed5-686c-4c41-a4b3-6099c6504069",
   "metadata": {
    "tags": []
   },
   "outputs": [],
   "source": [
    "sum_missing = dfs_change_missing.select('tot_count_views', 'age_in_months').summary().cache()"
   ]
  },
  {
   "cell_type": "code",
   "execution_count": null,
   "id": "e63b25dd-1469-480e-89f8-e1189b2233d7",
   "metadata": {
    "tags": []
   },
   "outputs": [],
   "source": [
    "dfs_uptonov.count()"
   ]
  },
  {
   "cell_type": "code",
   "execution_count": null,
   "id": "775dbb58-7358-4651-a52a-07de7dee27e8",
   "metadata": {
    "tags": []
   },
   "outputs": [],
   "source": [
    "sum_missing.show()"
   ]
  },
  {
   "cell_type": "code",
   "execution_count": null,
   "id": "f1e65ccb-b6da-4831-a065-461eaa3f41c4",
   "metadata": {
    "tags": []
   },
   "outputs": [],
   "source": [
    "dfs_change_missing.where('date = \"2022-11-01\"').select('tot_count_views', 'age_in_months').summary().show()"
   ]
  },
  {
   "cell_type": "markdown",
   "id": "e0b9b359-08ad-42b8-a7b1-17e4ed63ef50",
   "metadata": {},
   "source": [
    "For later analysis"
   ]
  },
  {
   "cell_type": "code",
   "execution_count": null,
   "id": "78f6c7ef-4c7b-4efa-86ee-062a93630fda",
   "metadata": {
    "tags": []
   },
   "outputs": [],
   "source": [
    "dfs_change_filt = spark.read.parquet(\"/scratch/descourt/processed_data/en/pageviews_en_articles_ev_2023-03.parquet\")"
   ]
  },
  {
   "cell_type": "code",
   "execution_count": null,
   "id": "fb3a8d07-f2db-4f32-b618-19bd1820d532",
   "metadata": {
    "tags": []
   },
   "outputs": [],
   "source": [
    "dfs_uptomar23 = dfs.join(dfs_change, dfs_change.page_ids == dfs.page_id).cache()"
   ]
  },
  {
   "cell_type": "markdown",
   "id": "0f91858b-f288-49e9-bc4d-f2ef6557bbf9",
   "metadata": {
    "tags": []
   },
   "source": [
    "## Process data\n",
    "Remove unused columns"
   ]
  },
  {
   "cell_type": "code",
   "execution_count": null,
   "id": "afffd835-8e9c-4721-8579-a91c7bb62fe4",
   "metadata": {
    "tags": []
   },
   "outputs": [],
   "source": [
    "df_high_volume = extract_volume(dfs, high=True).select('date', 'tot_count_views', 'page', 'page_id', 'rank').cache()"
   ]
  },
  {
   "cell_type": "code",
   "execution_count": null,
   "id": "6c2936bf-50ed-413a-86f9-11743b85fb02",
   "metadata": {
    "tags": []
   },
   "outputs": [],
   "source": [
    "df_high_volume = df_high_volume.join(dfs_change, dfs_change.page_ids == df_high_volume.page_id).select('date', 'tot_count_views', 'last_name', col('last_page_id').alias('page_id'), 'first_date', 'last_date').cache()"
   ]
  },
  {
   "cell_type": "code",
   "execution_count": null,
   "id": "111d10c6-7bc1-4360-9ae1-7a52dcc33f0d",
   "metadata": {
    "tags": []
   },
   "outputs": [],
   "source": [
    "df_low_volume = extract_volume(dfs, high=False).select('date', 'tot_count_views', 'page', 'page_id', 'rank').cache()"
   ]
  },
  {
   "cell_type": "code",
   "execution_count": null,
   "id": "df4aea13-9439-4da4-b63a-086bc26aba36",
   "metadata": {
    "tags": []
   },
   "outputs": [],
   "source": [
    "df_low_volume = df_low_volume.join(dfs_change, dfs_change.page_ids == df_low_volume.page_id).select('date', 'tot_count_views', 'last_name', col('last_page_id').alias('page_id'), 'first_date', 'last_date').cache()"
   ]
  },
  {
   "cell_type": "markdown",
   "id": "3fdf8d09-2f9d-4a05-abc7-f9b7c0945aa1",
   "metadata": {
    "tags": []
   },
   "source": [
    "# Characteristic time"
   ]
  },
  {
   "cell_type": "code",
   "execution_count": null,
   "id": "42b7f44f-488c-4fb9-b7df-678100c87a8a",
   "metadata": {
    "tags": []
   },
   "outputs": [],
   "source": [
    "# We need to convert each date into an integer for following analysis. \n",
    "# So we express each date as the difference in number of months between this date and the latest possible date, ie. march 23\n",
    "\n",
    "df_app_h = df_high_volume.select('page_id', \n",
    "                                 months_between(to_date(lit('2023-03'), 'yyyy-MM'), col('date')).alias('date'))\\\n",
    "                         .groupBy('page_id').agg(collect_set('date').alias('dates_core')).cache()\n",
    "df_app_l = df_low_volume.select('page_id', \n",
    "                                months_between(to_date(lit('2023-03'), 'yyyy-MM'), col('date')).alias('date'))\\\n",
    "                         .groupBy('page_id').agg(collect_set('date').alias('dates_tail')).cache()\n",
    "df_app_all = dfs.select('page_id', \n",
    "                        months_between(to_date(lit('2023-03'), 'yyyy-MM'), col('date')).alias('date'))\\\n",
    "                         .groupBy('page_id').agg(collect_set('date').alias('dates_all')).cache()"
   ]
  },
  {
   "cell_type": "markdown",
   "id": "6c725cec-28f6-4bb3-a5c5-3ef1970a8156",
   "metadata": {
    "tags": []
   },
   "source": [
    "## How much last views change over time"
   ]
  },
  {
   "cell_type": "code",
   "execution_count": null,
   "id": "51736645-fe01-45de-a3d1-3103a348b7f2",
   "metadata": {
    "tags": []
   },
   "outputs": [],
   "source": [
    "df_views_core = df_high_volume.groupBy('date').agg(min('tot_count_views').alias('min_views')).toPandas()\n",
    "df_views_core.sort_values('date').set_index('date').plot()"
   ]
  },
  {
   "cell_type": "code",
   "execution_count": null,
   "id": "09760c2b-bbf6-4e3d-ad72-09dc50038edf",
   "metadata": {
    "tags": []
   },
   "outputs": [],
   "source": [
    "df_views_tail = df_low_volume.groupBy('date').agg(max('tot_count_views').alias('min_views')).toPandas()\n",
    "df_views_tail.sort_values('date').set_index('date').plot()"
   ]
  },
  {
   "cell_type": "code",
   "execution_count": null,
   "id": "d1ab7057-54bf-4ec2-8019-7e387f4df230",
   "metadata": {
    "tags": []
   },
   "outputs": [],
   "source": [
    "df_nbpages_tail = df_low_volume.groupBy('date').agg(count('*').alias('nb_pages')).toPandas()\n",
    "df_nbpages_tail.sort_values('date').set_index('date').plot()"
   ]
  },
  {
   "cell_type": "markdown",
   "id": "cd71f898-0349-4b62-9178-7fe1d11dad2b",
   "metadata": {
    "jp-MarkdownHeadingCollapsed": true,
    "tags": []
   },
   "source": [
    "## How many times do articles appear (not necessarily consecutively) in the core or the tail ?\n",
    "\n",
    "Articles appearing 93 times (which corresponds to the number of months between July 2015 and March 23) make up the stable part of the core / tail / whole volume\n"
   ]
  },
  {
   "cell_type": "code",
   "execution_count": null,
   "id": "2dcabfcd-7d5d-4418-80cb-31505788fdf1",
   "metadata": {
    "tags": []
   },
   "outputs": [],
   "source": [
    "df_occ = dfs.join(dfs.groupBy('page_id').agg(count('*').alias('nb_months_in')), on='page_id')\\\n",
    "            .select('date', 'page_id', 'tot_count_views', 'rank', 'nb_months_in',\n",
    "                    when(col('nb_months_in') == 93, True).otherwise(False).alias('is_common'),\n",
    "                    when(col('nb_months_in') == 1, True).otherwise(False).alias('is_unique')).cache()\n",
    "df_occ_agg = df_occ.groupBy('date').agg( (sum(when(col('is_common'),1).otherwise(0))/ count('*')).alias('perc_common'),\n",
    "                                         (sum(when(col('is_unique'),1).otherwise(0)) / count('*')).alias('perc_unique'),\n",
    "                                        count('*').alias('tot_pages')).toPandas()"
   ]
  },
  {
   "cell_type": "code",
   "execution_count": null,
   "id": "a9cde36f-1f9d-47b0-9cb7-79fca940e563",
   "metadata": {
    "tags": []
   },
   "outputs": [],
   "source": [
    "df_high_occ = df_high_volume.join(df_high_volume.groupBy('page_id').agg(count('*').alias('nb_months_in')), on='page_id')\\\n",
    "            .select('date', 'page_id', 'tot_count_views', 'rank', 'nb_months_in',\n",
    "                    when(col('nb_months_in') == 93, True).otherwise(False).alias('is_common'),\n",
    "                    when(col('nb_months_in') == 1, True).otherwise(False).alias('is_unique')).cache()\n",
    "df_high_occ_agg = df_high_occ.groupBy('date').agg( (sum(when(col('is_common'),1).otherwise(0))/ count('*')).alias('perc_common'),\n",
    "                                         (sum(when(col('is_unique'),1).otherwise(0)) / count('*')).alias('perc_unique'),\n",
    "                                        count('*').alias('tot_pages')).toPandas()"
   ]
  },
  {
   "cell_type": "code",
   "execution_count": null,
   "id": "28cfed68-a553-4b4c-b640-640da4c301d4",
   "metadata": {
    "tags": []
   },
   "outputs": [],
   "source": [
    "df_low_occ = df_low_volume.join(df_low_volume.groupBy('page_id').agg(count('*').alias('nb_months_in')), on='page_id')\\\n",
    "            .select('date', 'page_id', 'tot_count_views', 'rank', 'nb_months_in',\n",
    "                    when(col('nb_months_in') == 93, True).otherwise(False).alias('is_common'),\n",
    "                    when(col('nb_months_in') == 1, True).otherwise(False).alias('is_unique')).cache()\n",
    "df_low_occ_agg = df_low_occ.groupBy('date').agg( (sum(when(col('is_common'),1).otherwise(0))/ count('*')).alias('perc_common'),\n",
    "                                         (sum(when(col('is_unique'),1).otherwise(0)) / count('*')).alias('perc_unique'),\n",
    "                                        count('*').alias('tot_pages')).toPandas()"
   ]
  },
  {
   "cell_type": "code",
   "execution_count": null,
   "id": "dd461671-a673-4559-83dc-afb1fc707fdc",
   "metadata": {
    "tags": []
   },
   "outputs": [],
   "source": [
    "df_occ_agg['perc_left'] = 1 - df_occ_agg['perc_common'] - df_occ_agg['perc_unique']\n",
    "df_occ_agg['Volume'] = 'Baseline'\n",
    "df_high_occ_agg['perc_left'] = 1 - df_high_occ_agg['perc_common'] - df_high_occ_agg['perc_unique']\n",
    "df_high_occ_agg['Volume'] = 'Core'\n",
    "df_low_occ_agg['perc_left'] = 1 - df_low_occ_agg['perc_common'] - df_low_occ_agg['perc_unique']\n",
    "df_low_occ_agg['Volume'] = 'Tail'"
   ]
  },
  {
   "cell_type": "code",
   "execution_count": null,
   "id": "7b39aa94-67ee-4c07-a463-f9ece1eb4278",
   "metadata": {
    "tags": []
   },
   "outputs": [],
   "source": [
    "import datetime\n",
    "df_plot_1['now'] = df_plot_1['date'].apply(lambda x : (datetime.date(2023, 3, 1) -x).days )"
   ]
  },
  {
   "cell_type": "code",
   "execution_count": null,
   "id": "2e8fbf26-93e0-4840-be68-cfc618f96965",
   "metadata": {
    "tags": []
   },
   "outputs": [],
   "source": [
    "df_plot_1 = pd.concat([df_low_occ_agg, df_high_occ_agg, df_occ_agg])\n",
    "df_plot_1['now'] = df_plot_1['date'].apply(lambda x : (datetime.date(2023, 3, 1) -x).days)\n",
    "df_plot_1['now'] = df_plot_1['now'] // 60\n",
    "\n",
    "data = df_plot_1.loc[df_plot_1['Volume'] == 'Core'].sort_values('now', ascending=False)\n",
    "fig = px.line(df_plot_1.sort_values(by='date', ascending=False), x='date', y='perc_common', color='Volume')\n",
    "\n",
    "fig.update_layout(    xaxis_title=dict(text='Date', font=dict(size=20)),\n",
    "    yaxis_title=dict(text='Percentage of common pages', font=dict(size=20)),\n",
    "    yaxis = dict( tickfont = dict(size=20)),\n",
    "    xaxis = dict( tickfont = dict(size=20)),\n",
    "    legend = dict(font=dict(size=20)),\n",
    "    legend_title = dict(font=dict(size=20)),\n",
    "    height=800,\n",
    "    width=800)\n",
    "fig.show()\n",
    "fig.write_image(\"../figures_report/volume_dynamics/perc_common_decrease_log_fr.pdf\")"
   ]
  },
  {
   "cell_type": "code",
   "execution_count": null,
   "id": "117149e0-8493-4727-a55c-c3d48d9ec2c6",
   "metadata": {
    "tags": []
   },
   "outputs": [],
   "source": [
    "fig = px.line(df_plot_1.sort_values('date'), x='date', y='perc_unique', color='Volume')\n",
    "fig.update_layout(    xaxis_title=dict(text='Date', font=dict(size=20)),\n",
    "    yaxis_title=dict(text='Percentage of unique pages', font=dict(size=20)),\n",
    "    yaxis = dict( tickfont = dict(size=20)),\n",
    "    xaxis = dict( tickfont = dict(size=20)),\n",
    "    legend = dict(font=dict(size=20)),\n",
    "    legend_title = dict(font=dict(size=20)),\n",
    "    height=800,\n",
    "    width=800)\n",
    "fig.show()\n",
    "fig.write_image(\"../figures_report/volume_dynamics/perc_unique_decrease_fr.pdf\")"
   ]
  },
  {
   "cell_type": "code",
   "execution_count": null,
   "id": "c0424a5d-0432-470c-822f-edbff46cd312",
   "metadata": {
    "tags": []
   },
   "outputs": [],
   "source": [
    "df_plot_1.groupby('Volume').apply(lambda x : x.describe())"
   ]
  },
  {
   "cell_type": "markdown",
   "id": "a2e23aee-a33a-4a8b-bcda-54cecddcf8c3",
   "metadata": {
    "tags": []
   },
   "source": [
    "## Life time in the core\n",
    "\n",
    "For the 43% left articles which :\n",
    "- were present for at most 92 months\n",
    "\n",
    "Compute\n",
    "* Average lifetime per article and std\n",
    "* Max lifetime per article distribution\n",
    "- consecutive occurrences distribution"
   ]
  },
  {
   "cell_type": "code",
   "execution_count": null,
   "id": "754b221e-9346-448b-b4de-a4cbcb04ec2b",
   "metadata": {
    "tags": []
   },
   "outputs": [],
   "source": [
    "def find_consecutive(dates):\n",
    "    \"\"\"\n",
    "    Find consecutive sequences length. Note that we need integers here ! \n",
    "    \"\"\"\n",
    "    sizes = [len(list(grp)) for grp in consecutive_groups(sorted(dates))]\n",
    "    return sizes\n",
    "    \n",
    "find_consecutive_udf = udf(find_consecutive, ArrayType(IntegerType()))"
   ]
  },
  {
   "cell_type": "code",
   "execution_count": null,
   "id": "3711d5ff-d462-4d1d-8c61-27401952a752",
   "metadata": {
    "tags": []
   },
   "outputs": [],
   "source": [
    "df_lifetime_h = df_app_h.withColumn('lifetimes', find_consecutive_udf(col('dates_core')))\\\n",
    "                      .select(explode('lifetimes').alias('lifetimes'), 'page_id', size('dates_core').alias('nb_occurrences'),\n",
    "                              size('lifetimes').alias('consecutive_occurrences')).cache()"
   ]
  },
  {
   "cell_type": "code",
   "execution_count": null,
   "id": "1581e454-ff13-4045-b4b6-f066da5c87b8",
   "metadata": {
    "tags": []
   },
   "outputs": [],
   "source": [
    "df_lifetime_l = df_app_l.withColumn('lifetimes', find_consecutive_udf(col('dates_tail')))\\\n",
    "                      .select(explode('lifetimes').alias('lifetimes'), 'page_id', size('dates_tail').alias('nb_occurrences'),\n",
    "                              size('lifetimes').alias('consecutive_occurrences')).cache()"
   ]
  },
  {
   "cell_type": "code",
   "execution_count": null,
   "id": "51342af3-36c3-4bb4-9bfb-ee4d40aa10fe",
   "metadata": {
    "tags": []
   },
   "outputs": [],
   "source": [
    "df_lifetime_all = df_app_all.withColumn('lifetimes', find_consecutive_udf(col('dates_all')))\\\n",
    "                      .select(explode('lifetimes').alias('lifetimes'), 'page_id', size('dates_all').alias('nb_occurrences'),\n",
    "                              size('lifetimes').alias('consecutive_occurrences')).cache()"
   ]
  },
  {
   "cell_type": "markdown",
   "id": "7070fdd9-3ff6-4ab0-a1d4-7b5b5fa46164",
   "metadata": {
    "tags": []
   },
   "source": [
    "### What is the maximum life time distribution in the core accross the entire period ?"
   ]
  },
  {
   "cell_type": "code",
   "execution_count": null,
   "id": "63d919a3-8441-4c84-b7aa-9c10ccd3ac50",
   "metadata": {
    "tags": []
   },
   "outputs": [],
   "source": [
    "# Compute the max lifetime per article in core and make the distribution\n",
    "w = Window.partitionBy('page_id').orderBy(desc('lifetimes'))\n",
    "df_lifetime_h = df_lifetime_h.select('page_id', first('lifetimes').over(w).alias('max_lifetime'), 'consecutive_occurrences')\\\n",
    "                     .distinct().cache()\n",
    "df_char_agg = df_lifetime_h.groupBy('max_lifetime')\\\n",
    "                     .agg(count('*').alias('nb_pages')).toPandas()\n",
    "tot_pages = df_char_agg['nb_pages'].sum()\n",
    "df_char_agg['frac_pages'] = df_char_agg['nb_pages'] / tot_pages * 100"
   ]
  },
  {
   "cell_type": "code",
   "execution_count": null,
   "id": "ff42fd31-2b66-4e4f-9c2a-a04685d7a58e",
   "metadata": {
    "tags": []
   },
   "outputs": [],
   "source": [
    "# Compute the max lifetime per article in tail and make the distribution\n",
    "df_lifetime_l = df_lifetime_l.select('page_id', first('lifetimes').over(w).alias('max_lifetime'), 'consecutive_occurrences')\\\n",
    "                     .distinct().cache()\n",
    "df_char_agg_l = df_lifetime_l.groupBy('max_lifetime')\\\n",
    "                     .agg(count('*').alias('nb_pages')).toPandas()\n",
    "tot_pages_l = df_char_agg_l['nb_pages'].sum()\n",
    "df_char_agg_l['frac_pages'] = df_char_agg_l['nb_pages'] / tot_pages_l * 100"
   ]
  },
  {
   "cell_type": "code",
   "execution_count": null,
   "id": "e7fb8447-12d2-408c-818f-ccbd6ecfa2a5",
   "metadata": {
    "tags": []
   },
   "outputs": [],
   "source": [
    "# Compute the max lifetime per article for entire volume and make the distribution\n",
    "df_lifetime_all = df_lifetime_all.select('page_id', first('lifetimes').over(w).alias('max_lifetime'), 'consecutive_occurrences')\\\n",
    "                     .distinct().cache()\n",
    "df_char_agg_all = df_lifetime_all.groupBy('max_lifetime')\\\n",
    "                     .agg(count('*').alias('nb_pages')).toPandas()\n",
    "tot_pages_all = df_char_agg_all['nb_pages'].sum()\n",
    "df_char_agg_all['frac_pages'] = df_char_agg_all['nb_pages'] / tot_pages_all * 100"
   ]
  },
  {
   "cell_type": "code",
   "execution_count": null,
   "id": "076af974-7239-44ce-989c-000cd776dad5",
   "metadata": {
    "tags": []
   },
   "outputs": [],
   "source": [
    "df_char_agg_l['Volume'] = 'Tail'\n",
    "df_char_agg['Volume'] = 'Core'\n",
    "df_char_agg_all['Volume'] = 'Baseline'"
   ]
  },
  {
   "cell_type": "code",
   "execution_count": null,
   "id": "dcc564aa-3531-490f-b443-2db032faf8e3",
   "metadata": {
    "tags": []
   },
   "outputs": [],
   "source": [
    "#   title='Distribution of pages max life time in the core and the tail',\n",
    "df_plot = pd.concat([df_char_agg_l, df_char_agg]).sort_values('max_lifetime')\n",
    "df_plot['text'] = df_plot.apply(lambda r: str(np.round(r.frac_pages*10)/10) + ' %' if r.max_lifetime in [1, 93] else \"\", axis=1)\n",
    "df_point = df_plot.loc[df_plot['max_lifetime'].isin([0, 93])]\n",
    "\n",
    "fig = px.line(df_plot, x = 'max_lifetime', y='frac_pages', color='Volume', log_y=True, text='text')#, opacity=0.5)\n",
    "\n",
    "fig.update_layout(\n",
    "    xaxis_title=dict(text='Maximum lifetime', font=dict(size=25)),\n",
    "    yaxis_title=dict(text='Percentage of pages', font=dict(size=25)),\n",
    "    yaxis = dict( tickfont = dict(size=25)),\n",
    "    xaxis = dict( tickfont = dict(size=25)),\n",
    "    legend = dict(font=dict(size=25)),\n",
    "    height=900,\n",
    "    width=900,\n",
    "    legend_title = dict(font=dict(size=25)),)\n",
    "    #barmode='overlay')\n",
    "fig.update_traces(line={'width': 10}, textfont=dict(size=21))\n",
    "\n",
    "fig.show()\n",
    "fig.write_html(\"../interm_results/volume_dynamics/distribution_maxlifetime_all_perc.html\")\n",
    "fig.write_image('../figures_report/volume_dynamics/distribution_maxlifetime_all_perc_fr.pdf')"
   ]
  },
  {
   "cell_type": "code",
   "execution_count": null,
   "id": "2e391c12-906b-4b68-a778-f8fb3979848d",
   "metadata": {
    "tags": []
   },
   "outputs": [],
   "source": [
    "samples_max_h = df_lifetime_h.select('max_lifetime').sample(0.1).toPandas()\n",
    "samples_max_l = df_lifetime_l.select('max_lifetime').sample(0.01).toPandas()\n",
    "samples_max_all = df_lifetime_all.select('max_lifetime').sample(0.01).toPandas()"
   ]
  },
  {
   "cell_type": "code",
   "execution_count": null,
   "id": "394fca34-d78c-41bd-8cb6-81d41775b111",
   "metadata": {
    "tags": []
   },
   "outputs": [],
   "source": [
    "samples_max_h.describe(percentiles=[.25, .5, .75, .9])"
   ]
  },
  {
   "cell_type": "code",
   "execution_count": null,
   "id": "66339009-c54c-48b8-9747-1d524db596bd",
   "metadata": {
    "tags": []
   },
   "outputs": [],
   "source": [
    "samples_max_l.describe(percentiles=[.1, .12,.25, .5, .75, .9])"
   ]
  },
  {
   "cell_type": "code",
   "execution_count": null,
   "id": "f8bfeb72-843c-41d3-9b78-bed33b4a1426",
   "metadata": {
    "tags": []
   },
   "outputs": [],
   "source": [
    "samples_max_all.describe(percentiles=[.1, .095, .25, .5, .75, .9])"
   ]
  },
  {
   "cell_type": "code",
   "execution_count": null,
   "id": "dc4e2fcb-72be-47ea-a4ac-a622f5fa1080",
   "metadata": {
    "tags": []
   },
   "outputs": [],
   "source": [
    "#   title='Distribution of pages max life time in the core and the tail',\n",
    "fig = px.bar(pd.concat([df_char_agg_l, df_char_agg_all]).sort_values('max_lifetime'), x = 'max_lifetime', y='frac_pages', color='Volume', log_y=True, opacity=0.5)\n",
    "fig.update_layout(\n",
    "    xaxis_title=dict(text='Maximum lifetime', font=dict(size=20)),\n",
    "    yaxis_title=dict(text='Percentage of pages', font=dict(size=20)),\n",
    "    yaxis = dict( tickfont = dict(size=20)),\n",
    "    xaxis = dict( tickfont = dict(size=20)),\n",
    "    legend = dict(font=dict(size=20)),\n",
    "    legend_title = dict(font=dict(size=20)),\n",
    "    barmode='overlay')\n",
    "fig.show()\n",
    "#fig.write_html(\"interm_results/volume_dynamics/distribution_maxlifetime_all_perc_2.html\")\n",
    "fig.write_image('figures_report/volume_dynamics/distribution_maxlifetime_all_perc_fr_2.pdf')"
   ]
  },
  {
   "cell_type": "code",
   "execution_count": null,
   "id": "6b7e1387-ea9a-400a-bd01-a7cc711526b5",
   "metadata": {
    "tags": []
   },
   "outputs": [],
   "source": [
    "sample_lifet_h = df_lifetime_h.select('max_lifetime').sample(0.1).toPandas()\n",
    "sample_lifet_l = df_lifetime_l.select('max_lifetime').sample(0.05).toPandas()\n",
    "sample_lifet_all = df_lifetime_all.select('max_lifetime').sample(0.01).toPandas()"
   ]
  },
  {
   "cell_type": "code",
   "execution_count": null,
   "id": "b39a7ed6-9b67-482f-9437-f5c9a6899c12",
   "metadata": {
    "tags": []
   },
   "outputs": [],
   "source": [
    "sample_lifet_h['Volume'] = 'Core'\n",
    "sample_lifet_l['Volume'] = 'Tail'\n",
    "sample_lifet_all['Volume'] = 'Baseline'"
   ]
  },
  {
   "cell_type": "code",
   "execution_count": null,
   "id": "3105ed22-9838-497a-b9e5-01d2c8cbc22a",
   "metadata": {
    "tags": []
   },
   "outputs": [],
   "source": [
    "fig = px.box(pd.concat([sample_lifet_all, sample_lifet_l, sample_lifet_h]), x='Volume', y='max_lifetime')\n",
    "fig.show()"
   ]
  },
  {
   "cell_type": "markdown",
   "id": "b4357614-4884-40b4-832e-c843d550faf3",
   "metadata": {
    "jp-MarkdownHeadingCollapsed": true,
    "tags": []
   },
   "source": [
    "### For how many consecutive_occurrences do article appear in the core ?"
   ]
  },
  {
   "cell_type": "code",
   "execution_count": null,
   "id": "00848da1-0da7-45fb-a778-d304c7bf6719",
   "metadata": {
    "tags": []
   },
   "outputs": [],
   "source": [
    "sample_occ_h = df_lifetime_h.select('consecutive_occurrences').sample(0.1).toPandas()\n",
    "sample_occ_l = df_lifetime_l.select('consecutive_occurrences').sample(0.05).toPandas()\n",
    "sample_occ_all = df_lifetime_all.select('consecutive_occurrences').sample(0.01).toPandas()"
   ]
  },
  {
   "cell_type": "code",
   "execution_count": null,
   "id": "97df13d8-8ad7-456a-9573-3d20eb3ffb81",
   "metadata": {
    "tags": []
   },
   "outputs": [],
   "source": [
    "sample_occ_h.describe(percentiles=[.25, .5, .75, .85,.9])"
   ]
  },
  {
   "cell_type": "code",
   "execution_count": null,
   "id": "e8532356-949b-4b07-9879-126428f038c0",
   "metadata": {
    "tags": []
   },
   "outputs": [],
   "source": [
    "sample_occ_l.describe(percentiles=[.25, .5, .75, .76,.77,.79,.8,.9])"
   ]
  },
  {
   "cell_type": "code",
   "execution_count": null,
   "id": "7bc34e8a-8256-44ab-9aaf-55cc2c401a07",
   "metadata": {
    "tags": []
   },
   "outputs": [],
   "source": [
    "sample_occ_all.describe(percentiles=[.25, .5, .75, .9])"
   ]
  },
  {
   "cell_type": "code",
   "execution_count": null,
   "id": "62d0fa91-0082-47fd-b5f7-8d7444fb6441",
   "metadata": {
    "tags": []
   },
   "outputs": [],
   "source": [
    "df_consocc_agg = df_lifetime_h.groupBy('consecutive_occurrences')\\\n",
    "                     .agg(count('*').alias('nb_pages')).toPandas()"
   ]
  },
  {
   "cell_type": "code",
   "execution_count": null,
   "id": "4fb6a02c-ed9e-4bce-a77a-f5b143867610",
   "metadata": {
    "tags": []
   },
   "outputs": [],
   "source": [
    "df_consocc_agg_tail = df_lifetime_l.groupBy('consecutive_occurrences')\\\n",
    "                     .agg(count('*').alias('nb_pages')).toPandas()"
   ]
  },
  {
   "cell_type": "code",
   "execution_count": null,
   "id": "88066b71-f369-489c-9f27-ad2d2c0c21d9",
   "metadata": {
    "tags": []
   },
   "outputs": [],
   "source": [
    "df_consocc_agg_all = df_lifetime_all.groupBy('consecutive_occurrences')\\\n",
    "                     .agg(count('*').alias('nb_pages')).toPandas()"
   ]
  },
  {
   "cell_type": "code",
   "execution_count": null,
   "id": "70b96e66-2ad8-411e-bc2b-41eda8f98edf",
   "metadata": {
    "tags": []
   },
   "outputs": [],
   "source": [
    "df_consocc_agg['Volume'] = 'Core'\n",
    "df_consocc_agg_tail['Volume'] = 'Tail'\n",
    "df_consocc_agg_all['Volume'] = 'Baseline'\n",
    "\n",
    "df_consocc_agg['Percentage'] = df_consocc_agg['nb_pages'] /  df_consocc_agg['nb_pages'].sum() * 100\n",
    "df_consocc_agg_tail['Percentage'] = df_consocc_agg_tail['nb_pages'] /  df_consocc_agg_tail['nb_pages'].sum() * 100\n",
    "df_consocc_agg_all['Percentage'] = df_consocc_agg_all['nb_pages'] /  df_consocc_agg_all['nb_pages'].sum() * 100"
   ]
  },
  {
   "cell_type": "code",
   "execution_count": null,
   "id": "471731d0-e341-4fd6-ab6e-78dc475eb10f",
   "metadata": {
    "tags": []
   },
   "outputs": [],
   "source": [
    "# title='Distribution of pages max life time in the core',\n",
    "fig = px.bar(pd.concat([df_consocc_agg, df_consocc_agg_tail, df_consocc_agg_all]).sort_values('consecutive_occurrences'),\n",
    "            x = 'consecutive_occurrences', y='Percentage', color='Volume')\n",
    "fig.update_layout(\n",
    "    xaxis_title=dict(text='Number of occurrences in the core', font=dict(size=20)),\n",
    "    yaxis_title=dict(text='Fraction of pages', font=dict(size=20)),\n",
    "    yaxis = dict( tickfont = dict(size=20)),\n",
    "    xaxis = dict( tickfont = dict(size=20)),\n",
    "    legend = dict(font=dict(size=15)),\n",
    "    legend_title = dict(font=dict(size=20)),\n",
    "    height=800,\n",
    "    width=800,\n",
    "barmode='group')\n",
    "fig.show()\n",
    "#fig.write_html(\"interm_results/volume_dynamics/distribution_occurrences_core.html\")\n",
    "fig.write_image(\"../figures_report/volume_dynamics/distribution_ccurrences_core_fr.pdf\")"
   ]
  },
  {
   "cell_type": "markdown",
   "id": "07d9f2d6-9669-4862-ac9e-f6727259649b",
   "metadata": {
    "tags": []
   },
   "source": [
    "# What characterises the incoming and outgoing fluxes?"
   ]
  },
  {
   "cell_type": "code",
   "execution_count": null,
   "id": "991e88da-4cee-416d-95f6-50069fe4045c",
   "metadata": {
    "tags": []
   },
   "outputs": [],
   "source": [
    "w = Window.partitionBy().orderBy(asc('date'))\n",
    "# Gather pages that are new compared to the month before\n",
    "df_fluxes = df_high_volume.groupBy('date').agg(collect_set('page_id').alias('current_ids'))\\\n",
    "                          .select(lag('current_ids').over(w).alias('prev_ids'), 'date', 'current_ids')\\\n",
    "                          .select(explode(array_except('current_ids', 'prev_ids')).alias('page_id'), 'date').cache()"
   ]
  },
  {
   "cell_type": "code",
   "execution_count": null,
   "id": "8ff3d677-2dc1-4de8-bca1-3c6c35a270dc",
   "metadata": {
    "tags": []
   },
   "outputs": [],
   "source": [
    "# Gather pages which were already present the month before\n",
    "df_common_month = df_high_volume.groupBy('date').agg(collect_set('page_id').alias('current_ids'))\\\n",
    "                          .select(lag('current_ids').over(w).alias('prev_ids'), 'date', 'current_ids')\\\n",
    "                          .select(explode(array_intersect('current_ids', 'prev_ids')).alias('page_id'), 'date').cache()"
   ]
  },
  {
   "cell_type": "code",
   "execution_count": null,
   "id": "e480225a-3be4-4ade-b4ec-2a3a3d799111",
   "metadata": {
    "tags": []
   },
   "outputs": [],
   "source": [
    "# Gather pages' creation date\n",
    "df_ages = df_high_volume.join(df_metadata.select('page_id', 'creation_date'), 'page_id')\n",
    "df_ages = df_ages.select('page_id',\n",
    "                           months_between('date', 'creation_date').alias('age_in_months'),\n",
    "                          'creation_date',\n",
    "                           'date').cache()"
   ]
  },
  {
   "cell_type": "code",
   "execution_count": null,
   "id": "90cfa7b6-79a1-477d-922c-d0c6685a4c9b",
   "metadata": {
    "tags": []
   },
   "outputs": [],
   "source": [
    "# Remove pages for which the reported creation month is wrong\n",
    "pages_moves = df_ages.where(col('age_in_months') < 0).select('page_id').distinct().cache()\n",
    "df_fluxes_dates = df_fluxes.join(df_ages.select('page_id', 'creation_date', 'date'), on=['date', 'page_id']).join(pages_moves, on='page_id', how='leftanti').drop('age_in_months').cache()"
   ]
  },
  {
   "cell_type": "markdown",
   "id": "846e523e-6ed5-4207-8101-ea9e55968947",
   "metadata": {
    "tags": []
   },
   "source": [
    "### What is this incoming flux size over time ?"
   ]
  },
  {
   "cell_type": "code",
   "execution_count": null,
   "id": "9ca50806-1a6a-451e-8238-93cd21c0d290",
   "metadata": {
    "tags": []
   },
   "outputs": [],
   "source": [
    "df_fluxsize = df_fluxes.groupBy('date').agg(count('*').alias('nb_incoming_pages')).toPandas()"
   ]
  },
  {
   "cell_type": "code",
   "execution_count": null,
   "id": "6b1b4055-d57a-40c9-adc5-c05778ef22fd",
   "metadata": {
    "tags": []
   },
   "outputs": [],
   "source": [
    "df_totsize= df_high_volume.groupBy('date').agg(count('*').alias('nb_tot_pages')).toPandas()"
   ]
  },
  {
   "cell_type": "code",
   "execution_count": null,
   "id": "b803ed60-9407-402c-83a9-38177e072823",
   "metadata": {
    "tags": []
   },
   "outputs": [],
   "source": [
    "# With match and no page moves filtering\n",
    "df_fluxcompar = df_fluxsize.merge(df_totsize, on='date')\n",
    "df_fluxcompar['perc'] = df_fluxcompar['nb_incoming_pages'] / df_fluxcompar['nb_tot_pages'] * 100\n",
    "fig = px.bar(df_fluxcompar.sort_values('date'), x='date', y='perc')\n",
    "fig.update_layout(\n",
    "title='Percentage of incoming pages over the total monthly core',\n",
    "xaxis_title='Percentage',\n",
    "yaxis_title='Date')\n",
    "fig.show()\n",
    "df_fluxcompar.describe()"
   ]
  },
  {
   "cell_type": "markdown",
   "id": "42945b43-1ba6-44aa-ab0e-b1fe161ae6d6",
   "metadata": {},
   "source": [
    "### What is the creation date distribution among incoming pages ?"
   ]
  },
  {
   "cell_type": "code",
   "execution_count": null,
   "id": "d7322beb-0fbe-4ded-af88-1db3c4ccbc5f",
   "metadata": {
    "tags": []
   },
   "outputs": [],
   "source": [
    "df_ages_creationd = df_fluxes_dates.groupBy('date', 'creation_date').agg(count('*').alias('nb_pages')).toPandas()\n",
    "df_ages_creationd_sum = df_ages_creationd.groupby('date').agg(tot_pages=('nb_pages', 'sum')).reset_index()\n",
    "df_ages_creationd = df_ages_creationd.merge(df_ages_creationd_sum, on='date')\n",
    "df_ages_creationd['perc'] = df_ages_creationd['nb_pages'] / df_ages_creationd['tot_pages'] * 100"
   ]
  },
  {
   "cell_type": "code",
   "execution_count": null,
   "id": "dd3f47ab-f7dc-4f96-bff5-652aa09ebcb8",
   "metadata": {
    "tags": []
   },
   "outputs": [],
   "source": [
    "#title='Age distribution of core incoming pages in November 2022',\n",
    "fig = px.bar(df_ages_creationd.loc[df_ages_creationd.date.astype(str) == '2022-11-01'], x ='creation_date', y = 'perc', log_y=False)\n",
    "fig.update_layout(\n",
    "    xaxis_title=dict(text='Creation Date', font=dict(size=20)),\n",
    "    yaxis_title=dict(text='Percentage', font=dict(size=20)),\n",
    "    yaxis = dict( tickfont = dict(size=20)),\n",
    "    xaxis = dict( tickfont = dict(size=20)),\n",
    "    height=600,\n",
    "    width=1000)\n",
    "fig.show()\n",
    "fig.write_image(\"../figures_report/volume_dynamics/age_distrib_nov22_fr.pdf\")"
   ]
  },
  {
   "cell_type": "code",
   "execution_count": null,
   "id": "92af68f0-7128-4948-9391-b1641cce61a8",
   "metadata": {
    "tags": []
   },
   "outputs": [],
   "source": [
    "#title='Age distribution of core incoming pages in November 2022',\n",
    "fig = px.bar(df_ages_creationd.sort_values('date'), x ='creation_date', y = 'perc', log_y=False, animation_frame='date')\n",
    "fig.update_layout(\n",
    "    xaxis_title=dict(text='Creation Date', font=dict(size=20)),\n",
    "    yaxis_title=dict(text='Percentage', font=dict(size=20)),\n",
    "    yaxis = dict( tickfont = dict(size=20)),\n",
    "    xaxis = dict( tickfont = dict(size=20)),\n",
    "    height=600,\n",
    "    width=1000)\n",
    "fig.show()\n",
    "fig.write_html(\"../figures_report/volume_dynamics/age_distrib_flux_fr.html\")"
   ]
  },
  {
   "cell_type": "code",
   "execution_count": null,
   "id": "0709fa1a-f382-4c5e-9522-a6c272e5e21b",
   "metadata": {
    "tags": []
   },
   "outputs": [],
   "source": [
    "dates_summ = df_fluxes_dates.select('date', months_between('date', 'creation_date').alias('age_in_months'))\\\n",
    "                            .groupBy('date').agg(add_months('date', -percentile_approx('age_in_months', 0.5)).alias('med'),\\\n",
    "                                                 add_months('date', -percentile_approx('age_in_months', 0.1)).alias('10%'),\\\n",
    "                                                  add_months('date', -percentile_approx('age_in_months', 0.25)).alias('25%'),\\\n",
    "                                                  add_months('date', -percentile_approx('age_in_months', 0.75)).alias('75%'),\\\n",
    "                                                  add_months('date', -percentile_approx('age_in_months', 0.9)).alias('90%')).toPandas()"
   ]
  },
  {
   "cell_type": "code",
   "execution_count": null,
   "id": "68e98d21-1199-4665-ad64-6b2746ea2688",
   "metadata": {
    "scrolled": true,
    "tags": []
   },
   "outputs": [],
   "source": [
    "dates_summ.sort_values('date').head(60)"
   ]
  },
  {
   "cell_type": "markdown",
   "id": "eacb9112-edbd-47e5-ae60-8563e9010376",
   "metadata": {
    "jp-MarkdownHeadingCollapsed": true,
    "tags": []
   },
   "source": [
    "#### Check above results with my own data"
   ]
  },
  {
   "cell_type": "code",
   "execution_count": null,
   "id": "358533b2-17ff-46e2-b22c-9ebeff849880",
   "metadata": {
    "tags": []
   },
   "outputs": [],
   "source": [
    "df_fluxes_dates_check = df_fluxes.join(df_high_volume.select('page_id', 'first_date', 'date'), on=['date', 'page_id']).cache()"
   ]
  },
  {
   "cell_type": "code",
   "execution_count": null,
   "id": "6f191f3c-2563-4fc5-81d8-67f5ffddbb6f",
   "metadata": {
    "tags": []
   },
   "outputs": [],
   "source": [
    "df_dates_check = df_fluxes_dates_check.groupBy('date', 'first_date').agg(count('*').alias('nb_pages')).toPandas()\n",
    "df_ages_creationd_sum = df_dates_check.groupby('date').agg(tot_pages=('nb_pages', 'sum')).reset_index()\n",
    "df_dates_check = df_dates_check.merge(df_ages_creationd_sum, on='date')\n",
    "df_dates_check['perc'] = df_dates_check['nb_pages'] / df_dates_check['tot_pages'] * 100"
   ]
  },
  {
   "cell_type": "code",
   "execution_count": null,
   "id": "130cb031-bd3c-4c3f-a748-2df99ebcec2a",
   "metadata": {
    "tags": []
   },
   "outputs": [],
   "source": [
    "#title='Age distribution of core incoming pages in November 2022',\n",
    "fig = px.bar(df_dates_check.sort_values('date'), x ='first_date', y = 'perc', log_y=True, animation_frame='date')\n",
    "fig.update_layout(\n",
    "    xaxis_title=dict(text='Creation Date', font=dict(size=20)),\n",
    "    yaxis_title=dict(text='Percentage', font=dict(size=20)),\n",
    "    yaxis = dict( tickfont = dict(size=20)),\n",
    "    xaxis = dict( tickfont = dict(size=20)),\n",
    "    height=600,\n",
    "    width=1000)\n",
    "fig.show()"
   ]
  },
  {
   "cell_type": "markdown",
   "id": "699b5d4c-42df-453c-921f-a234d941be46",
   "metadata": {
    "jp-MarkdownHeadingCollapsed": true,
    "tags": []
   },
   "source": [
    "#### Is the bump before 2010 conserved overtime ?"
   ]
  },
  {
   "cell_type": "code",
   "execution_count": null,
   "id": "d06f4a6f-dca9-435a-89ed-0b30659c279b",
   "metadata": {
    "tags": []
   },
   "outputs": [],
   "source": [
    "df_flux_before_2010 = df_fluxes_dates.where(col('creation_date') <= to_date(lit('2010-01'), 'yyyy-MM')).select(col('date').cast('string'), months_between('date', 'creation_date').alias('age_in_months')).sample(0.5).toPandas()"
   ]
  },
  {
   "cell_type": "code",
   "execution_count": null,
   "id": "034a3c8c-3888-48b5-b946-aad2a83e9543",
   "metadata": {
    "tags": []
   },
   "outputs": [],
   "source": [
    "dates = [ '2015-08-01', '2015-09-01', '2015-10-01', '2015-11-01', '2015-12-01']\\\n",
    "        + [f'{y}-{m}-01' for y in ['2016', '2017', '2018', '2019', '2020', '2021', '2022'] for m in\n",
    "                       [f'0{i}' if i < 10 else i for i in range(1, 13, 1)]]\\\n",
    "        + ['2023-01-01', '2023-02-01', '2023-03-01']"
   ]
  },
  {
   "cell_type": "code",
   "execution_count": null,
   "id": "5799b912-33e9-4d1c-bda2-1ed550a2c90d",
   "metadata": {
    "tags": []
   },
   "outputs": [],
   "source": [
    "from itertools import combinations\n",
    "combs = np.array([i for i in combinations(dates, 2)])\n",
    "idx = [random.randint(0, len(combs)) for i in range(500)]"
   ]
  },
  {
   "cell_type": "code",
   "execution_count": null,
   "id": "0dbc790a-baf9-4445-a3a3-e194266f3a13",
   "metadata": {
    "tags": []
   },
   "outputs": [],
   "source": [
    "from scipy.stats import mannwhitneyu\n",
    "\n",
    "d1, d2, pvalues, n = [], [], [], 0\n",
    "for date_pair in tqdm(combs[idx]):\n",
    "    d1.append(date_pair[0])\n",
    "    d2.append(date_pair[1])\n",
    "    n += 1\n",
    "    sample_1 = df_flux_before_2010.loc[df_flux_before_2010.date == date_pair[0]]['age_in_months']\n",
    "    sample_2 = df_flux_before_2010.loc[df_flux_before_2010.date == date_pair[1]]['age_in_months']\n",
    "    res = mannwhitneyu(sample_1.sample(n=np.min([sample_1.shape[0],sample_2.shape[0]])).values,\n",
    "          sample_2.sample(n=np.min([sample_1.shape[0],sample_2.shape[0]])).values)\n",
    "    pvalues.append(res.pvalue)\n",
    "\n",
    "print(f\"Level of confidence = {0.05 / n}\")\n",
    "df_res = pd.DataFrame({'date_1' : d1, 'date_2' : d2, 'pvalue' : pvalues})\n",
    "df_res[df_res.pvalue > 0.05/n]"
   ]
  },
  {
   "cell_type": "markdown",
   "id": "5644bbe3-57e3-48ab-8054-fec6f603e5e4",
   "metadata": {
    "tags": []
   },
   "source": [
    "### What is the proportion of newly created pages over the rest of the flux ?"
   ]
  },
  {
   "cell_type": "code",
   "execution_count": null,
   "id": "92edf557-e2cb-4cbf-abf2-1e47c261a590",
   "metadata": {
    "tags": []
   },
   "outputs": [],
   "source": [
    "# Number of pages newly created in incoming flux\n",
    "df_creation_flux = df_dates_check.loc[df_dates_check['date'] == df_dates_check['first_date']]\n",
    "df_creation_flux.describe()"
   ]
  },
  {
   "cell_type": "code",
   "execution_count": null,
   "id": "8ad0c7b6-d936-4bc4-95f2-8569eaab2938",
   "metadata": {
    "tags": []
   },
   "outputs": [],
   "source": [
    "# With my definition of creation date, ie. estimation\n",
    "plt.figure()\n",
    "df_creation_flux.sort_values('date').set_index('date')['perc'].plot()\n",
    "plt.title('Percentage of newly created pages in incoming flux - Estimated')"
   ]
  },
  {
   "cell_type": "code",
   "execution_count": null,
   "id": "34dc0baa",
   "metadata": {
    "tags": []
   },
   "outputs": [],
   "source": [
    "dfs_all = dfs.join(dfs_change, dfs_change.page_ids == dfs.page_id)\n",
    "df_creation_all = dfs_all.where(col('date') == col('first_date')).groupBy('date').agg(count('*').alias('nb_pages_all')).toPandas()"
   ]
  },
  {
   "cell_type": "code",
   "execution_count": null,
   "id": "25b33af5-5a2b-4063-8579-0c3c3cb8d2af",
   "metadata": {
    "tags": []
   },
   "outputs": [],
   "source": [
    "df_new_prop = df_creation_flux.merge(df_creation_all, on='date')"
   ]
  },
  {
   "cell_type": "code",
   "execution_count": null,
   "id": "4fdc6b46-8f17-4825-aeca-4fd836ae4b76",
   "metadata": {
    "tags": []
   },
   "outputs": [],
   "source": [
    "df_new_prop['perc_core'] = df_new_prop['nb_pages'] / df_new_prop['nb_pages_all'] * 100"
   ]
  },
  {
   "cell_type": "code",
   "execution_count": null,
   "id": "58641926-c946-4bed-b97f-79eba971ac26",
   "metadata": {
    "tags": []
   },
   "outputs": [],
   "source": [
    "plt.figure()\n",
    "df_new_prop.sort_values('date').set_index('date')['perc_core'].plot()\n",
    "plt.title('Percentage of newly created pages going directly to the core - Estimated')"
   ]
  },
  {
   "cell_type": "code",
   "execution_count": null,
   "id": "2a0b3fcf-8ed0-412a-9fa6-2755169e1cf1",
   "metadata": {
    "tags": []
   },
   "outputs": [],
   "source": [
    "# With metadata creation date\n",
    "df_ages_creationd[(df_ages_creationd['date'] == df_ages_creationd['creation_date']) & ((df_ages_creationd['date'] <= pd.to_datetime('2022-11-01')))].sort_values('date').set_index('date')['perc'].plot()\n",
    "plt.title('Percentage of newly created pages in the core incoming pages over time')\n",
    "plt.xlabel('Date')\n",
    "plt.ylabel('Percentage')"
   ]
  },
  {
   "cell_type": "code",
   "execution_count": null,
   "id": "9210407f-071a-444b-a0c8-de37cf11796b",
   "metadata": {
    "scrolled": true,
    "tags": []
   },
   "outputs": [],
   "source": [
    "df_low_dates_sp = df_low_volume.join(df_metadata, on='page_id').where(col('date') == col('creation_date')).cache()\n",
    "df_low_dates_sp.show()"
   ]
  },
  {
   "cell_type": "code",
   "execution_count": null,
   "id": "00969a66-299e-4c63-a62f-7246c5027c81",
   "metadata": {
    "tags": []
   },
   "outputs": [],
   "source": [
    "df_low_dates = df_low_volume.join(df_metadata, on='page_id').where(col('date') == col('creation_date')).groupBy('date').agg(count('*').alias('nb_pages')).toPandas()"
   ]
  },
  {
   "cell_type": "code",
   "execution_count": null,
   "id": "ead821e9-76c7-4349-ba79-f9ba12f1aa72",
   "metadata": {
    "tags": []
   },
   "outputs": [],
   "source": [
    "df_core_new = df_ages_creationd[(df_ages_creationd['date'] == df_ages_creationd['creation_date']) & ((df_ages_creationd['date'] <= pd.to_datetime('2022-11-01')))]"
   ]
  },
  {
   "cell_type": "code",
   "execution_count": null,
   "id": "806b0eff-887c-4ea3-99ac-e2ffe6641e90",
   "metadata": {
    "tags": []
   },
   "outputs": [],
   "source": [
    "df_creation_fluxes_meta = df_low_dates.rename(columns={'nb_pages' : 'nb_pages_tail'}).merge(df_core_new, on='date')"
   ]
  },
  {
   "cell_type": "code",
   "execution_count": null,
   "id": "3bc52fbb-8964-487f-8e80-1bb9678e57f0",
   "metadata": {
    "tags": []
   },
   "outputs": [],
   "source": [
    "df_creation_fluxes_meta['perc'] = df_creation_fluxes_meta['nb_pages'] / (df_creation_fluxes_meta['nb_pages'] + df_creation_fluxes_meta['nb_pages_tail']) * 100"
   ]
  },
  {
   "cell_type": "code",
   "execution_count": null,
   "id": "6120f8c8-da44-4b64-aacf-2ae6c6d23b35",
   "metadata": {
    "tags": []
   },
   "outputs": [],
   "source": [
    "plt.figure()\n",
    "df_creation_fluxes_meta.sort_values('date').set_index('date')['perc'].plot()\n",
    "plt.title('Percentage of pages going directly to the core - Metadata')"
   ]
  },
  {
   "cell_type": "code",
   "execution_count": null,
   "id": "03d960d9-a9a1-4d48-9921-333f47988039",
   "metadata": {
    "tags": []
   },
   "outputs": [],
   "source": [
    "df_creation_fluxes_meta.loc[df_creation_fluxes_meta.date >= pd.to_datetime('2020-03')].describe()"
   ]
  },
  {
   "cell_type": "markdown",
   "id": "83613f79-2479-4ecb-9d05-e01255892de9",
   "metadata": {
    "tags": []
   },
   "source": [
    "### What is the percentage of 1 months created pages which would go to the core the next month ?"
   ]
  },
  {
   "cell_type": "code",
   "execution_count": null,
   "id": "c7198450-ad66-4765-a471-7b67cb88e2f8",
   "metadata": {
    "tags": []
   },
   "outputs": [],
   "source": [
    "df_ages_creationd = df_ages_creationd[~df_ages_creationd['creation_date'].isnull()]"
   ]
  },
  {
   "cell_type": "code",
   "execution_count": null,
   "id": "aa7191e7-3a9b-4836-9342-e6abeb5ec7e0",
   "metadata": {
    "tags": []
   },
   "outputs": [],
   "source": [
    "df_ages_creationd['creation_date_1month'] = df_ages_creationd['creation_date'].apply(lambda d : d + pd.DateOffset(months=1))\n",
    "df_core_1month = df_ages_creationd.loc[(df_ages_creationd['date'] == df_ages_creationd['creation_date_1month']) & (df_ages_creationd['date'] <= pd.to_datetime('2022-11-01'))]"
   ]
  },
  {
   "cell_type": "code",
   "execution_count": null,
   "id": "20f2ffaa-4eb4-495e-98a2-055c7241df2d",
   "metadata": {
    "tags": []
   },
   "outputs": [],
   "source": [
    "df_low_dates_1month = df_low_volume.join(df_metadata, on='page_id').where(col('date') == add_months(col('creation_date'), 1)).groupBy('date').agg(count('*').alias('nb_pages')).toPandas()"
   ]
  },
  {
   "cell_type": "code",
   "execution_count": null,
   "id": "eb5cf21b-12a9-4252-897f-f57b704fc75f",
   "metadata": {
    "tags": []
   },
   "outputs": [],
   "source": [
    "df_est = df_core_1month.merge(df_low_dates_1month.rename(columns={'nb_pages' : 'nb_pages_tail'}), on='date')\n",
    "df_est['perc'] = df_est['nb_pages'] / (df_est['nb_pages'] + df_est['nb_pages_tail']) * 100\n",
    "df_est.loc[df_est['date'] <= pd.to_datetime('2022-11-01')].sort_values('date').set_index('date')['perc'].plot()"
   ]
  },
  {
   "cell_type": "markdown",
   "id": "de0bf1c6-103a-4663-bc8f-2d66c9846e33",
   "metadata": {
    "tags": []
   },
   "source": [
    "### What is the proportion of incoming pages over overlap size (it should plateau a bie before 43%)"
   ]
  },
  {
   "cell_type": "code",
   "execution_count": null,
   "id": "ddff92e5-467d-45fd-a8cb-fcdf360059b7",
   "metadata": {},
   "outputs": [],
   "source": [
    "percs_avg, percs_std, nb = [], [], []\n",
    "for i in tqdm(range(1,94)):\n",
    "    w = Window.partitionBy().orderBy(asc('date'))\n",
    "    stats = df_high_volume_mar23.groupBy('date').agg(collect_set('page_id').alias('current_ids'))\\\n",
    "                              .select(lag('current_ids', offset=i).over(w).alias('prev_ids'), 'date', 'current_ids')\\\n",
    "                              .select((size(array_except('current_ids', 'prev_ids')) / size('current_ids') * 100).alias('new'), 'date')\\\n",
    "                              .where(col('new') > 0)\\\n",
    "                              .select(avg('new').alias('avg'), stddev('new').alias('std'), count('*').alias('nb_pages')).collect()\n",
    "    percs_avg.append(stats[0]['avg'])\n",
    "    percs_std.append(stats[0]['std'])\n",
    "    nb.append(stats[0]['nb_pages'])"
   ]
  },
  {
   "cell_type": "code",
   "execution_count": null,
   "id": "ee9fd00b-9582-4c86-b493-7fb9c038ae8f",
   "metadata": {
    "tags": []
   },
   "outputs": [],
   "source": [
    "df_plot = pd.DataFrame({'Mean overlap percentage' : percs_avg, 'std' : percs_std, 'nb' : nb, 'Number of consecutive months': [i for i in range(1,94)]})\n",
    "df_plot['error'] = df_plot['std'] * 1.96 / np.sqrt(df_plot['nb'])\n",
    "\n",
    "fig = px.line(df_plot, y='Mean overlap percentage', x='Number of consecutive months', error_y='error')\n",
    "fig.update_layout(\n",
    "    xaxis_title=dict(text='Number of consecutive months', font=dict(size=20)),\n",
    "    yaxis_title=dict(text='Mean overlap percentage', font=dict(size=20)),\n",
    "    yaxis = dict( tickfont = dict(size=20)),\n",
    "    xaxis = dict( tickfont = dict(size=20)),\n",
    "    height=500,\n",
    "    width=900)\n",
    "fig.show()\n",
    "fig.write_html(\"interm_results/volume_dynamics/prop_incoming.html\")\n",
    "fig.write_image(\"figures_report/volume_dynamics/prop_incoming.pdf\")"
   ]
  },
  {
   "cell_type": "markdown",
   "id": "fbde175f-8af5-4874-bbcf-2348e5b68a0e",
   "metadata": {
    "tags": []
   },
   "source": [
    "### What are the incoming flux semantics ?"
   ]
  },
  {
   "cell_type": "code",
   "execution_count": null,
   "id": "94b07f98-4a3d-4be6-a2e7-e08972bbe42e",
   "metadata": {
    "tags": []
   },
   "outputs": [],
   "source": [
    "df_topics_sp = spark.read.parquet('/scratch/descourt/metadata/topics/topic_en/topics-enwiki-20230320-parsed.parquet').select(col('page_id').cast('string').alias('page_id'), col('topics_specific_unique').alias('topic')).distinct().cache()\n",
    "# "
   ]
  },
  {
   "cell_type": "code",
   "execution_count": null,
   "id": "1b948d75-b698-4e1b-b98d-bb4cde25a016",
   "metadata": {},
   "outputs": [],
   "source": [
    "df_fluxes_top = df_fluxes.where(col('date') <= to_date(lit('2022-11'), 'yyyy-MM'))\n",
    "df_fluxes_top = df_fluxes_top.join(df_topics_sp.select('page_id', 'topic').distinct(), 'page_id').cache()\n",
    "df_fluxes_top_agg = df_fluxes_top.groupBy('date', 'topic').agg(count('*').alias('nb_pages')).toPandas()"
   ]
  },
  {
   "cell_type": "code",
   "execution_count": null,
   "id": "41aa9d94-0f86-4833-8dca-7287b4173da9",
   "metadata": {
    "tags": []
   },
   "outputs": [],
   "source": [
    "df_fluxes_top_agg_sum = df_fluxes_top_agg.groupby('date').agg(tot_pages=('nb_pages', 'sum'))"
   ]
  },
  {
   "cell_type": "code",
   "execution_count": null,
   "id": "498cd46f-e350-4f23-9164-d97d49ffedb4",
   "metadata": {},
   "outputs": [],
   "source": [
    "df_fluxes_top_agg = df_fluxes_top_agg.merge(df_fluxes_top_agg_sum, on='date')\n",
    "df_fluxes_top_agg['perc'] = df_fluxes_top_agg['nb_pages'] / df_fluxes_top_agg['tot_pages'] * 100"
   ]
  },
  {
   "cell_type": "code",
   "execution_count": null,
   "id": "daf42aba-024c-481d-94b9-67adf5008ba4",
   "metadata": {
    "tags": []
   },
   "outputs": [],
   "source": [
    "df_fluxes_top_agg_agg = df_fluxes_top_agg.groupby('topic').agg(avg_perc=('perc', 'mean'), std_perc=('perc', 'std')).reset_index()\n",
    "df_fluxes_top_agg_agg['error'] = df_fluxes_top_agg_agg['std_perc'] * 1.96 / np.sqrt(93)"
   ]
  },
  {
   "cell_type": "code",
   "execution_count": null,
   "id": "ccb8c38c-79ab-4eb6-8380-6eec76d15afc",
   "metadata": {},
   "outputs": [],
   "source": [
    "df_fluxes_top_agg_agg.sort_values('avg_perc')"
   ]
  },
  {
   "cell_type": "code",
   "execution_count": null,
   "id": "4fe2da28-864c-416b-9f78-66c1ab5f6a60",
   "metadata": {
    "tags": []
   },
   "outputs": [],
   "source": [
    "color_map = { t: 'lightblue' if 'stem' in t else 'orange' if 'history' in t else 'magenta' if 'geography' in t else 'green' for t in df_fluxes_top_agg_agg.topic.values }"
   ]
  },
  {
   "cell_type": "markdown",
   "id": "ec7d6b5a-2605-420b-83ff-dfd3eb7b8f6e",
   "metadata": {
    "jp-MarkdownHeadingCollapsed": true,
    "tags": []
   },
   "source": [
    "### How much interest is gathered by this flux vs the rest ?\n",
    "TODO -> average and CI not reliable"
   ]
  },
  {
   "cell_type": "code",
   "execution_count": null,
   "id": "25e1ed90-f4c8-4bae-b640-945dafe5e0c1",
   "metadata": {
    "tags": []
   },
   "outputs": [],
   "source": [
    "df_fluxes_views = df_fluxes.join(df_high_volume.select('page_id', 'date', 'tot_count_views'), on=['page_id', 'date'])\n",
    "df_common_views = df_common_month.join(df_high_volume.select('page_id', 'date', 'rank', 'tot_count_views'), on=['page_id', 'date'])\n",
    "fluxes_stats = df_fluxes_views.groupBy('date').agg((avg('tot_count_views').alias('avg_views'), stddev('tot_count_views').alias('std_views'), count('*').alias('nb_pages')).toPandas()\n",
    "#overall_stats = df_high_volume.groupBy('date').agg(avg('tot_count_views').alias('avg_views'), stddev('tot_count_views').alias('std_views'), count('*').alias('nb_pages')).toPandas()\n",
    "common_stats = df_common_views.groupBy('date').agg(avg('tot_count_views').alias('avg_views'), stddev('tot_count_views').alias('std_views'), count('*').alias('nb_pages')).toPandas()"
   ]
  },
  {
   "cell_type": "code",
   "execution_count": null,
   "id": "91d5eb10-6328-4ac0-8291-07ea1e90331d",
   "metadata": {},
   "outputs": [],
   "source": [
    "fluxes_stats['Pages'] = 'Incoming pages'\n",
    "overall_stats['Pages'] = 'Entire core'\n",
    "common_stats['Pages'] = 'Stable core'\n",
    "\n",
    "fluxes_stats['error'] = fluxes_stats['std_views']*1.96 / np.sqrt(fluxes_stats['nb_pages'])\n",
    "overall_stats['error'] = overall_stats['std_views']*1.96 / np.sqrt(overall_stats['nb_pages'])\n",
    "common_stats['error'] = common_stats['std_views']*1.96 / np.sqrt(common_stats['nb_pages'])\n",
    "\n",
    "df_plot = pd.concat([fluxes_stats, overall_stats, common_stats])\n",
    "fig = px.bar(df_plot.sort_values('date'), x='date', y='avg_views', error_y='error', color='Pages')\n",
    "fig.update_layout(barmode='group')\n",
    "fig.show()"
   ]
  },
  {
   "cell_type": "markdown",
   "id": "5c237a08-8956-4973-a5f4-085edf695429",
   "metadata": {},
   "source": [
    "### What are the outgoing pages like ?"
   ]
  },
  {
   "cell_type": "code",
   "execution_count": null,
   "id": "c56bee7a-d0fc-4f4c-9c69-a01e967322c6",
   "metadata": {
    "tags": []
   },
   "outputs": [],
   "source": [
    "w = Window.partitionBy().orderBy(asc('date'))\n",
    "df_outgoing = df_high_volume.groupBy('date').agg(collect_set('page_id').alias('current_ids'))\\\n",
    "                          .select(lag('current_ids').over(w).alias('prev_ids'), 'date', 'current_ids')\\\n",
    "                          .select(explode(array_except('prev_ids', 'current_ids')).alias('disappeared'), 'date').cache()"
   ]
  },
  {
   "cell_type": "code",
   "execution_count": null,
   "id": "67518a58-7169-4b65-b9e7-4545acd8d45a",
   "metadata": {
    "tags": []
   },
   "outputs": [],
   "source": [
    "df_outgoing"
   ]
  },
  {
   "cell_type": "code",
   "execution_count": null,
   "id": "7195afa6-2efc-4462-96b3-e14b24b47a09",
   "metadata": {
    "tags": []
   },
   "outputs": [],
   "source": [
    "df_outgoingfluxsize = df_outgoing.select(add_months('date', -1).alias('date')).groupBy('date').agg(count('*').alias('nb_incoming_pages')).toPandas()"
   ]
  },
  {
   "cell_type": "code",
   "execution_count": null,
   "id": "203a5d08-ab9e-4929-ac44-b21e8e81d048",
   "metadata": {
    "tags": []
   },
   "outputs": [],
   "source": [
    "df_outgoingcompar = df_outgoingfluxsize.merge(df_totsize, on='date')\n",
    "df_outgoingcompar['perc'] = df_outgoingcompar['nb_incoming_pages'] / df_outgoingcompar['nb_tot_pages'] * 100\n",
    "fig = px.bar(df_outgoingcompar.sort_values('date'), x='date', y='perc')\n",
    "fig.update_layout(\n",
    "title='Percentage of outgoing pages over the total monthly core',\n",
    "xaxis_title='Percentage',\n",
    "yaxis_title='Date')\n",
    "fig.show()\n",
    "fig.write_html(\"interm_results/volume_dynamics/core_outgoing_pages.html\")"
   ]
  },
  {
   "cell_type": "code",
   "execution_count": null,
   "id": "535abf3a-9dbd-4d95-bae8-e712d68235d2",
   "metadata": {
    "tags": []
   },
   "outputs": [],
   "source": [
    "df_outgoingcompar.describe()"
   ]
  },
  {
   "cell_type": "code",
   "execution_count": null,
   "id": "d39deea9-4e92-47f6-b112-5d582165a7e1",
   "metadata": {
    "tags": []
   },
   "outputs": [],
   "source": [
    "df_outgoingflux = df_outgoing.select('date', col('disappeared').cast('bigint').alias('disappeared'))\n",
    "df_outgoingflux = df_outgoingflux.join(df_topics_sp, df_topics_sp.page_id == df_outgoingflux.disappeared)\n",
    "df_outgoingflux_agg = df_outgoingflux.groupBy('date', 'topic').agg(count('*').alias('nb_pages')).toPandas()"
   ]
  },
  {
   "cell_type": "code",
   "execution_count": null,
   "id": "9a734bec-2dd3-462d-9008-93da747d28a1",
   "metadata": {
    "tags": []
   },
   "outputs": [],
   "source": [
    "df_sum = df_outgoingflux_agg.groupby('date').agg(tot_pages=('nb_pages', 'sum')).reset_index()\n",
    "df_outgoingflux_agg = df_outgoingflux_agg.merge(df_sum, on='date')\n",
    "df_outgoingflux_agg['perc'] = df_outgoingflux_agg['nb_pages'] / df_outgoingflux_agg['tot_pages'] * 100"
   ]
  },
  {
   "cell_type": "code",
   "execution_count": null,
   "id": "f7a493fa-4eb0-43a3-b0b4-f275549d9a38",
   "metadata": {
    "tags": []
   },
   "outputs": [],
   "source": [
    "df_top_fluxes = pd.concat([df_outgoingflux_agg, df_fluxes_top_agg]).sort_values('topic')"
   ]
  },
  {
   "cell_type": "code",
   "execution_count": null,
   "id": "4549635a-b72f-4fee-a647-486d295c660b",
   "metadata": {
    "tags": []
   },
   "outputs": [],
   "source": [
    "df_outgoingflux_agg['Flux'] = 'Outgoing'\n",
    "df_fluxes_top_agg['Flux'] = 'Incoming'\n",
    "\n",
    "\n",
    "fig = px.box(pd.concat([df_outgoingflux_agg, df_fluxes_top_agg]).sort_values('topic'), y='topic', x='perc', orientation='h', color='Flux')\n",
    "fig.update_layout(\n",
    "    width = 1000,\n",
    "    height=2100,\n",
    "    xaxis_title=dict(text='Topic', font=dict(size=20)),\n",
    "    yaxis_title=dict(text='Percentage', font=dict(size=20)),\n",
    "    yaxis = dict( tickfont = dict(size=17)),\n",
    "    xaxis = dict( tickfont = dict(size=20)),\n",
    "legend= dict(font=dict(size=20)))\n",
    "fig.show()\n",
    "fig.write_image('figures_report/volume_dynamics/topics_fluxes.pdf')"
   ]
  },
  {
   "cell_type": "code",
   "execution_count": null,
   "id": "b83088ae-d957-4e6c-8b42-a82d85939155",
   "metadata": {
    "tags": []
   },
   "outputs": [],
   "source": [
    "df_outgoing_dates = df_outgoing.select(add_months('date', -1).alias('date'), col('disappeared').alias('page_id')).join(df_ages.select('page_id', 'creation_date', 'date'), on=['date', 'page_id'])\n",
    "df_outgoing_dates = df_outgoing_dates.join(pages_moves, on='page_id', how='leftanti').drop('age_in_months').cache()"
   ]
  },
  {
   "cell_type": "code",
   "execution_count": null,
   "id": "3f3f6b7a-db84-4e37-88c1-4142677ed555",
   "metadata": {
    "tags": []
   },
   "outputs": [],
   "source": [
    "df_ages_out_creationd = df_outgoing_dates.groupBy('date', 'creation_date').agg(count('*').alias('nb_pages')).toPandas()\n",
    "df_ages_creationd_sum = df_ages_out_creationd.groupby('date').agg(tot_pages=('nb_pages', 'sum')).reset_index()\n",
    "df_ages_out_creationd = df_ages_out_creationd.merge(df_ages_creationd_sum, on='date')\n",
    "df_ages_out_creationd['perc'] = df_ages_out_creationd['nb_pages'] / df_ages_out_creationd['tot_pages'] * 100"
   ]
  },
  {
   "cell_type": "code",
   "execution_count": null,
   "id": "1303fb8e-75ea-4940-8fab-56f296c7e4b6",
   "metadata": {
    "tags": []
   },
   "outputs": [],
   "source": [
    "df_outgoing_full = df_outgoing.select(add_months('date', -1).alias('date'), col('disappeared').alias('page_id')).join(df_high_volume, on=['date' , 'page_id']).cache()"
   ]
  },
  {
   "cell_type": "code",
   "execution_count": null,
   "id": "4be63b93-088f-4eda-b214-eb20521bdf93",
   "metadata": {
    "tags": []
   },
   "outputs": [],
   "source": [
    "#title='Age distribution of core incoming pages in November 2022',\n",
    "fig = px.bar(df_ages_out_creationd.loc[df_ages_out_creationd.date.astype(str) == '2022-11-01'], x ='creation_date', y = 'perc', log_y=False)\n",
    "fig.update_layout(\n",
    "    xaxis_title=dict(text='Creation Date', font=dict(size=20)),\n",
    "    yaxis_title=dict(text='Percentage', font=dict(size=20)),\n",
    "    yaxis = dict( tickfont = dict(size=20)),\n",
    "    xaxis = dict( tickfont = dict(size=20)),\n",
    "    height=600,\n",
    "    width=1000)\n",
    "fig.show()\n",
    "#fig.write_image(\"figures_report/volume_dynamics/age_distrib_nov22.pdf\")"
   ]
  },
  {
   "cell_type": "markdown",
   "id": "aa8d208e-4703-464d-bf58-ded58d4836ce",
   "metadata": {
    "tags": []
   },
   "source": [
    "### What is the proportion of outgoing pages over overlap size ?\n",
    "\n",
    "below not run, but compare incoming with outgoing for 2 consecutive months"
   ]
  },
  {
   "cell_type": "code",
   "execution_count": null,
   "id": "6f5609a4-c0b2-4bfd-b228-58c6240ef7b2",
   "metadata": {},
   "outputs": [],
   "source": [
    "percs_avg_out, percs_std_out, nb_out = [], [], []\n",
    "for i in tqdm(range(1,94)):\n",
    "    w = Window.partitionBy().orderBy(asc('date'))\n",
    "    stats = df_high_volume_mar23.groupBy('date').agg(collect_set('page_id').alias('current_ids'))\\\n",
    "                              .select(lag('current_ids', offset=i).over(w).alias('prev_ids'), 'date', 'current_ids')\\\n",
    "                              .select((size(array_except('prev_ids', 'current_ids')) / size('current_ids') * 100).alias('out'), 'date')\\\n",
    "                                .where(col('out') > 0)\\\n",
    "                              .select(avg('out').alias('avg'), stddev('out').alias('std'), count('*').alias('nb')).collect()\n",
    "    percs_avg_out.append(stats[0]['avg'])\n",
    "    percs_std_out.append(stats[0]['std'])\n",
    "    nb_out.append(stats[0]['nb'])"
   ]
  },
  {
   "cell_type": "code",
   "execution_count": null,
   "id": "faff9a3b-5a69-4df9-95d5-2896999aa2dd",
   "metadata": {},
   "outputs": [],
   "source": [
    "df_plot = pd.DataFrame({'Mean overlap percentage' : percs_avg_out, 'std' : percs_std_out, 'nb' : nb_out, 'Number of consecutive months': [i for i in range(1,94)]})\n",
    "df_plot['error'] = df_plot['std'] * 1.96 / np.sqrt(df_plot['nb'])\n",
    "\n",
    "fig = px.line(df_plot, y='Mean overlap percentage', x='Number of consecutive months', error_y='error')\n",
    "fig.update_layout(\n",
    "    xaxis_title=dict(text='Number of consecutive months', font=dict(size=20)),\n",
    "    yaxis_title=dict(text='Mean overlap percentage', font=dict(size=20)),\n",
    "    yaxis = dict( tickfont = dict(size=20)),\n",
    "    xaxis = dict( tickfont = dict(size=20)),\n",
    "    height=900)\n",
    "fig.show()\n",
    "fig.write_html(\"interm_results/volume_dynamics/prop_outgoing.html\")\n",
    "fig.write_image(\"figures_report/volume_dynamics/prop_outgoing.pdf\")"
   ]
  },
  {
   "cell_type": "markdown",
   "id": "5f2a70e9-029c-48f7-bf07-8d5558201749",
   "metadata": {
    "tags": []
   },
   "source": [
    " ## Were articles coming from the tail to the core in the core before ?"
   ]
  },
  {
   "cell_type": "code",
   "execution_count": null,
   "id": "9847c005-0a73-493a-8763-3adb79dbe9bc",
   "metadata": {
    "tags": []
   },
   "outputs": [],
   "source": [
    "df_inthecore = df_high_volume.groupBy('page_id').agg(collect_set('date').alias('dates_in_core')).cache()\n",
    "df_fluxes = df_fluxes.join(df_inthecore, 'page_id').cache()\n",
    "df_fluxes_in_core = df_fluxes.select( 'page_id', array(*[add_months('date', -i) for i in range(1,90)]).alias('prev_dates'), 'dates_in_core', 'date')\\\n",
    "                             .select('page_id', size(array_intersect('prev_dates', 'dates_in_core')).alias('nb_prev_times_core'), 'date').cache()"
   ]
  },
  {
   "cell_type": "code",
   "execution_count": null,
   "id": "6c25ad83-9660-4ec8-803e-771de60f102e",
   "metadata": {
    "tags": []
   },
   "outputs": [],
   "source": [
    "df_from_core = df_fluxes_in_core.groupBy('date', 'nb_prev_times_core').agg(count('*').alias('nb_pages')).toPandas()"
   ]
  },
  {
   "cell_type": "code",
   "execution_count": null,
   "id": "0e92d379-2b86-4295-ae39-8fd3a7bce793",
   "metadata": {},
   "outputs": [],
   "source": [
    "# View the percentage of pages which were 0 up to max possible times in the core throughout the period of study up to November 2022\n",
    "\n",
    "df_from_core_sum = df_from_core.groupby('date').agg(tot_pages=('nb_pages', 'sum')).reset_index()\n",
    "df_from_core = df_from_core.merge(df_from_core_sum, on='date')\n",
    "df_from_core['perc'] = df_from_core['nb_pages'] / df_from_core['tot_pages'] * 100\n",
    "fig = px.bar(df_from_core.sort_values('date'), x='nb_prev_times_core', y='perc', animation_frame='date')\n",
    "fig.show()"
   ]
  },
  {
   "cell_type": "code",
   "execution_count": null,
   "id": "c8088b91-4484-46f0-9311-161ff3c7e0ff",
   "metadata": {
    "tags": []
   },
   "outputs": [],
   "source": [
    "# Taking the average over 1 last year because better estimation of the core history\n",
    "df_from_core[(df_from_core.date.astype('str').isin(['2022-03-01', '2022-04-01', '2022-05-01', '2022-06-01', '2022-07-01', '2022-08-01', '2022-09-01', '2022-10-01', '2022-11-01', '2022-12-01', '2023-01-01', '2023-02-01', '2023-03-01'])) & (df_from_core.nb_prev_times_core == 0)].describe()"
   ]
  },
  {
   "cell_type": "code",
   "execution_count": null,
   "id": "6569aacf-6aef-4cdb-b4f2-2785c8bac840",
   "metadata": {
    "tags": []
   },
   "outputs": [],
   "source": [
    "1.635571 * 1.96 / np.sqrt(12)"
   ]
  },
  {
   "cell_type": "markdown",
   "id": "26b45898-db99-47f2-94cc-d5a21b496943",
   "metadata": {},
   "source": [
    "On average based on the full 2022 year, 15.6% of articles were new to the core in the incoming flux, so either coming from the tail, either newly created (but we could assume such articles were \"born in the tail\"). \n",
    "We also know that 1.77% of the incoming flux (see [this section](#What-is-the-proportion-of-new-/-the-rest-?) ). Therefore 100 - 1.77 / 15.6 * 100 = 89 % from the pages new to the core come from the tail."
   ]
  },
  {
   "cell_type": "markdown",
   "id": "4d92b013-f1a5-463b-bfd5-a6476e3fa04a",
   "metadata": {},
   "source": [
    "### How old are articles emerging from the tail to the core ?"
   ]
  },
  {
   "cell_type": "code",
   "execution_count": null,
   "id": "dd40b82f-6c27-4edc-a457-fe7ce93e1539",
   "metadata": {
    "tags": []
   },
   "outputs": [],
   "source": [
    "# If the number of previous time in the core is 0, it means this article was never seen in the core\n",
    "df_comingfromthetail = df_fluxes_in_core.where('nb_prev_times_core = \"0\"').join(df_metadata.select('page_id', 'creation_date'),\n",
    "                                                                                df_metadata.page_id == df_fluxes_in_core.page_id)\n",
    "df_agesfromthetail = df_comingfromthetail.groupBy('date', 'creation_date').agg(count('*').alias('nb_pages')).toPandas()"
   ]
  },
  {
   "cell_type": "code",
   "execution_count": null,
   "id": "fe521bbb-fc91-4779-9e42-cdc92b8877c6",
   "metadata": {
    "tags": []
   },
   "outputs": [],
   "source": [
    "df_agesfromthetail_tail = df_agesfromthetail[pd.to_datetime(df_agesfromthetail['creation_date']) != df_agesfromthetail['date']]\n",
    "df_agesfromthetail_sum = df_agesfromthetail_tail.groupby('date').agg(tot_pages=('nb_pages', 'sum')).reset_index()\n",
    "df_agesfromthetail_tail = df_agesfromthetail_tail.merge(df_agesfromthetail_sum, on='date')\n",
    "df_agesfromthetail_tail['perc'] = df_agesfromthetail_tail['nb_pages'] / df_agesfromthetail_tail['tot_pages'] * 100\n",
    "\n",
    "fig = px.bar(df_agesfromthetail_tail.sort_values('date'), x='creation_date', y='perc', animation_frame='date')\n",
    "fig.show()"
   ]
  },
  {
   "cell_type": "code",
   "execution_count": null,
   "id": "08e66ae2-bcc0-48f8-ad9e-6d81f024e7d2",
   "metadata": {
    "tags": []
   },
   "outputs": [],
   "source": [
    "fig.write_html(\"interm_results/volume_dynamics/agesfromthetail.html\")"
   ]
  },
  {
   "cell_type": "markdown",
   "id": "7d0aaa95-d9a2-4af9-a773-bfc2ee3ff33d",
   "metadata": {
    "tags": []
   },
   "source": [
    "# How much interest in gathered by pages always in the core versus the rest ?"
   ]
  },
  {
   "cell_type": "code",
   "execution_count": null,
   "id": "35fb513b-9293-469d-8671-9512d5baec91",
   "metadata": {
    "tags": []
   },
   "outputs": [],
   "source": [
    "df_high_volume = extract_volume(dfs, high=True).select('date', 'tot_count_views', 'page', 'page_id').cache()\n",
    "df_low_volume = extract_volume(dfs, high=False).select('date', 'tot_count_views', 'page', 'page_id').cache()"
   ]
  },
  {
   "cell_type": "code",
   "execution_count": null,
   "id": "c04bf03c-d426-4542-95d0-1941da43abba",
   "metadata": {
    "tags": []
   },
   "outputs": [],
   "source": [
    "stable_core = df_high_volume.join(df_high_volume.groupBy('page_id').agg(count('*').alias('nb_occ')), on=['page_id']).withColumn('stable', col('nb_occ') == 93)\n",
    "stable_tail = df_low_volume.join(df_low_volume.groupBy('page_id').agg(count('*').alias('nb_occ')), on=['page_id']).withColumn('stable', col('nb_occ') == 93)\n",
    "stable_all = dfs.join(dfs.groupBy('page_id').agg(count('*').alias('nb_occ')), on=['page_id']).withColumn('stable', col('nb_occ') == 93)\n",
    "\n",
    "df_stats_core = stable_core.groupBy('stable', 'date').agg(avg('tot_count_views').alias('Average Views'), (stddev('tot_count_views') * 1.96 / sqrt(count('*'))).alias('error')).toPandas()\n",
    "df_stats_tail = stable_tail.groupBy('stable', 'date').agg(avg('tot_count_views').alias('Average Views'), (stddev('tot_count_views') * 1.96 / sqrt(count('*'))).alias('error')).toPandas()\n",
    "df_stats_all = stable_all.groupBy('stable', 'date').agg(avg('tot_count_views').alias('Average Views'), (stddev('tot_count_views') * 1.96 / sqrt(count('*'))).alias('error')).toPandas()"
   ]
  },
  {
   "cell_type": "code",
   "execution_count": null,
   "id": "ce415ccb-5294-4051-bbd6-8c0b94159792",
   "metadata": {
    "tags": []
   },
   "outputs": [],
   "source": [
    "sample_stats_core = stable_core.sample(0.01).toPandas()"
   ]
  },
  {
   "cell_type": "code",
   "execution_count": null,
   "id": "dddd8fb2-c899-449a-8b4b-91349b6a89b7",
   "metadata": {
    "tags": []
   },
   "outputs": [],
   "source": [
    "dates = np.unique(sample_stats_core.date.values)"
   ]
  },
  {
   "cell_type": "code",
   "execution_count": null,
   "id": "70666b68-07e3-42ec-b805-7d2ae2691777",
   "metadata": {
    "tags": []
   },
   "outputs": [],
   "source": [
    "df_plot = sample_stats_core.loc[sample_stats_core.date.isin(dates[::3])].sample(156928)\n",
    "fig = px.box(df_plot, x='date', y='tot_count_views', color='stable', log_y=True, color_discrete_map = {'True': 'red', 'False':'blue'})\n",
    "fig.update_layout(\n",
    "    height=700,\n",
    "    width=2100,\n",
    "    xaxis_title=dict(text='Date', font=dict(size=25)),\n",
    "    yaxis_title=dict(text='Number of views', font=dict(size=25)),\n",
    "    yaxis = dict( tickfont = dict(size=25)),\n",
    "    xaxis = dict( tickfont = dict(size=25)),\n",
    "    legend = dict(font = dict(size = 20)),\n",
    "    legend_title = dict(font = dict(size = 25), text='Stable'))\n",
    "fig.show()\n",
    "fig.write_image(\"figures_report/volume_dynamics/avg_views_core_stability_box_red.pdf\")"
   ]
  },
  {
   "cell_type": "code",
   "execution_count": null,
   "id": "c9e16034-7db2-4922-ade9-2a8f3f03192f",
   "metadata": {
    "tags": []
   },
   "outputs": [],
   "source": [
    "sample_stats_tail = stable_tail.sample(0.01).toPandas()\n",
    "sample_stats_all = stable_all.sample(0.001).toPandas()"
   ]
  },
  {
   "cell_type": "code",
   "execution_count": null,
   "id": "ec873fe0-92f0-49ad-a7ba-477f5b5a4b74",
   "metadata": {
    "tags": []
   },
   "outputs": [],
   "source": [
    "df_plot = sample_stats_tail.loc[sample_stats_tail.date.isin(dates[::3])].sample(156928)\n",
    "fig = px.box(df_plot, x='date', y='tot_count_views', color='stable', log_y=True,  color_discrete_map = {'True': 'red', 'False':'blue'})\n",
    "fig.update_layout(\n",
    "    height=700,\n",
    "    width=2100,\n",
    "    xaxis_title=dict(text='Date', font=dict(size=25)),\n",
    "    yaxis_title=dict(text='Number of views', font=dict(size=25)),\n",
    "    yaxis = dict( tickfont = dict(size=25)),\n",
    "    xaxis = dict( tickfont = dict(size=25)),\n",
    "    legend = dict(font = dict(size = 20)),\n",
    "    legend_title = dict(font = dict(size = 25), text='Stable'))\n",
    "fig.show()\n",
    "fig.write_image(\"figures_report/volume_dynamics/avg_views_tail_stability_box_red.pdf\")"
   ]
  },
  {
   "cell_type": "code",
   "execution_count": null,
   "id": "c23d47a2-a6ce-4294-b61e-e65fd7c33dba",
   "metadata": {
    "tags": []
   },
   "outputs": [],
   "source": [
    "df_plot = sample_stats_all.loc[sample_stats_all.date.isin(dates[::3])].sample(156928)\n",
    "fig = px.box(df_plot, x='date', y='tot_count_views', color='stable', log_y=True,  color_discrete_map = {'True': 'red', 'False':'blue'})\n",
    "fig.update_layout(\n",
    "    height=700,\n",
    "    width=2100,\n",
    "    xaxis_title=dict(text='Date', font=dict(size=25)),\n",
    "    yaxis_title=dict(text='Number of views', font=dict(size=25)),\n",
    "    yaxis = dict( tickfont = dict(size=25)),\n",
    "    xaxis = dict( tickfont = dict(size=25)),\n",
    "    legend = dict(font = dict(size = 20)),\n",
    "    legend_title = dict(font = dict(size = 25), text='Stable'))\n",
    "fig.show()\n",
    "#fig.write_image(\"figures_report/volume_dynamics/avg_views_tail_stability_box_red.pdf\")"
   ]
  },
  {
   "cell_type": "code",
   "execution_count": null,
   "id": "b63fb900-260d-4b53-a826-e1d8b8b8c86a",
   "metadata": {
    "tags": []
   },
   "outputs": [],
   "source": [
    "\n",
    "df1 = sample_stats_core.sample(160000).loc[sample_stats_tail['stable'] & (sample_stats_tail.date == pd.to_datetime('2020-01-01'))]['tot_count_views'].values\n",
    "df2 = sample_stats_core.sample(160000).loc[~sample_stats_tail['stable'] & (sample_stats_tail.date == pd.to_datetime('2020-01-01'))]['tot_count_views'].values\n"
   ]
  },
  {
   "cell_type": "code",
   "execution_count": null,
   "id": "13a48c3b-5d31-4e9e-8148-c3d9ffdbcd0d",
   "metadata": {
    "tags": []
   },
   "outputs": [],
   "source": [
    "from scipy.stats import mannwhitneyu\n",
    "\n",
    "#pvalue_g = []\n",
    "pvalue_l = []\n",
    "#pvalue_diff = []\n",
    "\n",
    "for d in tqdm(dates):\n",
    "    \n",
    "    df1 = sample_stats_tail.sample(160000).loc[sample_stats_tail['stable'] & (sample_stats_tail['date']== d)]['tot_count_views'].values\n",
    "    df2 = sample_stats_tail.sample(160000).loc[~sample_stats_tail['stable'] & (sample_stats_tail['date'] == d)]['tot_count_views'].values\n",
    "    \n",
    "    pvalue_l.append(mannwhitneyu(df1, df2, alternative='less').pvalue)\n",
    "    #pvalue_diff.append(mannwhitneyu(df1, df2).pvalue)"
   ]
  },
  {
   "cell_type": "code",
   "execution_count": null,
   "id": "a31bd11e-4cbd-4f13-b53b-406d221748fb",
   "metadata": {
    "tags": []
   },
   "outputs": [],
   "source": [
    "pvalue_g_core = []\n",
    "pvalue_diff_core = []\n",
    "\n",
    "for d in tqdm(dates[::3]):\n",
    "    \n",
    "    df1 = sample_stats_core.sample(160000).loc[sample_stats_core['stable'] & (sample_stats_core['date']== d)]['tot_count_views'].values\n",
    "    df2 = sample_stats_core.sample(160000).loc[~sample_stats_core['stable'] & (sample_stats_core['date'] == d)]['tot_count_views'].values\n",
    "    \n",
    "    pvalue_g_core.append(mannwhitneyu(df1, df2, alternative='greater').pvalue)\n",
    "    pvalue_diff_core.append(mannwhitneyu(df1, df2).pvalue)"
   ]
  },
  {
   "cell_type": "code",
   "execution_count": null,
   "id": "26dcfbaf-afd0-48bf-a9f1-dd22de7cf55c",
   "metadata": {
    "tags": []
   },
   "outputs": [],
   "source": [
    "pvalue_g_all = []\n",
    "pvalue_diff_all = []\n",
    "\n",
    "for d in tqdm(dates[::3]):\n",
    "    \n",
    "    df1 = sample_stats_all.sample(160000).loc[sample_stats_all['stable'] & (sample_stats_all['date']== d)]['tot_count_views'].values\n",
    "    df2 = sample_stats_all.sample(160000).loc[~sample_stats_all['stable'] & (sample_stats_all['date'] == d)]['tot_count_views'].values\n",
    "    \n",
    "    pvalue_g_all.append(mannwhitneyu(df1, df2, alternative='greater').pvalue)\n",
    "    pvalue_diff_all.append(mannwhitneyu(df1, df2).pvalue)"
   ]
  }
 ],
 "metadata": {
  "kernelspec": {
   "display_name": "Python 3 (ipykernel)",
   "language": "python",
   "name": "python3"
  },
  "language_info": {
   "codemirror_mode": {
    "name": "ipython",
    "version": 3
   },
   "file_extension": ".py",
   "mimetype": "text/x-python",
   "name": "python",
   "nbconvert_exporter": "python",
   "pygments_lexer": "ipython3",
   "version": "3.10.9"
  },
  "toc-autonumbering": true,
  "widgets": {
   "application/vnd.jupyter.widget-state+json": {
    "state": {},
    "version_major": 2,
    "version_minor": 0
   }
  }
 },
 "nbformat": 4,
 "nbformat_minor": 5
}
