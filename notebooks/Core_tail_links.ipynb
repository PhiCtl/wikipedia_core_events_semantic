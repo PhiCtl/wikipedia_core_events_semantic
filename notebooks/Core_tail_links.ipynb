{
 "cells": [
  {
   "cell_type": "markdown",
   "id": "148444ed-564f-4fdc-90c6-36061fefc721",
   "metadata": {
    "tags": []
   },
   "source": [
    "# Installing pyspark requirements"
   ]
  },
  {
   "cell_type": "code",
   "execution_count": 1,
   "id": "fcc54735-c07d-4126-b723-697a1a99e77d",
   "metadata": {
    "scrolled": true,
    "tags": []
   },
   "outputs": [],
   "source": [
    "import os\n",
    "os.environ[\"JAVA_HOME\"] = \"/lib/jvm/java-11-openjdk-amd64\"\n",
    "# Because otherwise custom modules import errors\n",
    "import sys\n",
    "sys.path.append('../')"
   ]
  },
  {
   "cell_type": "code",
   "execution_count": 2,
   "id": "e5c79227-c1f9-4ed0-9ed1-4500a52f111f",
   "metadata": {
    "tags": []
   },
   "outputs": [],
   "source": [
    "import pandas as pd\n",
    "import numpy as np\n",
    "import matplotlib.pyplot as plt\n",
    "from matplotlib import cm\n",
    "%matplotlib inline\n",
    "\n",
    "from pyspark.sql import *\n",
    "from pyspark.sql.functions import *\n",
    "from pyspark import SparkContext\n",
    "\n",
    "import plotly.graph_objs as go\n",
    "import plotly.express as px\n",
    "\n",
    "from scipy import stats\n",
    "from scipy import spatial"
   ]
  },
  {
   "cell_type": "code",
   "execution_count": 3,
   "id": "42345090-96d8-4ef9-ae20-722d613b5c53",
   "metadata": {
    "tags": []
   },
   "outputs": [],
   "source": [
    "import pyspark"
   ]
  },
  {
   "cell_type": "code",
   "execution_count": 4,
   "id": "033bf524-7c8e-40c3-ae88-18095a973494",
   "metadata": {
    "tags": []
   },
   "outputs": [],
   "source": [
    "from src.ranking_helpers import *\n",
    "from src.make_and_plot import*\n",
    "from src.pages_groups_extraction import*\n",
    "from src.data_aggregation import*"
   ]
  },
  {
   "cell_type": "markdown",
   "id": "d11fa440-ea9a-402d-baf0-4d4a1883549d",
   "metadata": {
    "tags": []
   },
   "source": [
    "## Initialize context "
   ]
  },
  {
   "cell_type": "code",
   "execution_count": 5,
   "id": "f8f59bc8-9e03-4749-b2be-6f99d8aa4d28",
   "metadata": {
    "tags": []
   },
   "outputs": [
    {
     "name": "stdout",
     "output_type": "stream",
     "text": [
      "23/07/16 15:57:17 WARN Utils: Your hostname, iccluster060 resolves to a loopback address: 127.0.1.1; using 10.90.39.11 instead (on interface ens786f0)\n",
      "23/07/16 15:57:17 WARN Utils: Set SPARK_LOCAL_IP if you need to bind to another address\n"
     ]
    },
    {
     "name": "stderr",
     "output_type": "stream",
     "text": [
      "Setting default log level to \"WARN\".\n",
      "To adjust logging level use sc.setLogLevel(newLevel). For SparkR, use setLogLevel(newLevel).\n"
     ]
    },
    {
     "name": "stdout",
     "output_type": "stream",
     "text": [
      "23/07/16 15:57:18 WARN NativeCodeLoader: Unable to load native-hadoop library for your platform... using builtin-java classes where applicable\n",
      "23/07/16 15:57:18 WARN SparkConf: Note that spark.local.dir will be overridden by the value set by the cluster manager (via SPARK_LOCAL_DIRS in mesos/standalone/kubernetes and LOCAL_DIRS in YARN).\n",
      "23/07/16 15:57:19 WARN Utils: Service 'SparkUI' could not bind on port 4040. Attempting port 4041.\n",
      "23/07/16 15:57:19 WARN Utils: Service 'SparkUI' could not bind on port 4041. Attempting port 4042.\n"
     ]
    }
   ],
   "source": [
    "conf = pyspark.SparkConf().setMaster(\"local[3]\").setAll([\n",
    "                                   ('spark.driver.memory','100G'),\n",
    "                                   ('spark.executor.memory', '100G'),\n",
    "                                   ('spark.driver.maxResultSize', '0'),\n",
    "                                    ('spark.executor.cores', '3'),\n",
    "                                    ('spark.local.dir', '/scratch/descourt/spark')\n",
    "                                ])\n",
    "# create the session\n",
    "spark = SparkSession.builder.config(conf=conf).getOrCreate()\n",
    "# create the context\n",
    "sc = spark.sparkContext\n",
    "sc.setLogLevel('ERROR')"
   ]
  },
  {
   "cell_type": "markdown",
   "id": "a882d08f-46e4-469d-b2ee-b3e92c6e7816",
   "metadata": {
    "tags": []
   },
   "source": [
    "# Data\n",
    "\n",
    "Detailed step by step data processing for Jan and Febr 2022."
   ]
  },
  {
   "cell_type": "code",
   "execution_count": 6,
   "id": "cedef416-3f30-4684-936e-9e8258dee2b0",
   "metadata": {
    "tags": []
   },
   "outputs": [
    {
     "name": "stderr",
     "output_type": "stream",
     "text": [
      "                                                                                \r"
     ]
    }
   ],
   "source": [
    "dfs = spark.read.parquet(\"/scratch/descourt/processed_data/en/pageviews_en_2015-2023.parquet\").withColumn('project', lit('en'))"
   ]
  },
  {
   "cell_type": "code",
   "execution_count": 7,
   "id": "dd3423d3-9772-4e9d-ad07-4cfcc8dda5c7",
   "metadata": {
    "tags": []
   },
   "outputs": [],
   "source": [
    "df_high_volume = extract_volume(dfs.where(dfs.date.isin(['2022-01', '2022-02', '2022-03'])), high=True).select('date', 'page_id', 'page', lit('core').alias('volume')).cache()\n",
    "df_low_volume = extract_volume(dfs.where(dfs.date.isin(['2022-01', '2022-02', '2022-03'])), high=False).select('date', 'page_id', 'page', lit('tail').alias('volume')).cache()\n",
    "df_all = df_high_volume.union(df_low_volume).cache()"
   ]
  },
  {
   "cell_type": "code",
   "execution_count": 8,
   "id": "e2ab4afc-30bd-4c5c-bc61-3ec201536c5a",
   "metadata": {
    "tags": []
   },
   "outputs": [
    {
     "name": "stderr",
     "output_type": "stream",
     "text": [
      "/home/descourt/.conda/envs/wiki_sem/lib/python3.10/site-packages/pyspark/sql/pandas/conversion.py:474: FutureWarning: iteritems is deprecated and will be removed in a future version. Use .items instead.\n",
      "  for column, series in pdf.iteritems():\n",
      "/home/descourt/.conda/envs/wiki_sem/lib/python3.10/site-packages/pyspark/sql/pandas/conversion.py:486: FutureWarning: iteritems is deprecated and will be removed in a future version. Use .items instead.\n",
      "  for column, series in pdf.iteritems():\n"
     ]
    }
   ],
   "source": [
    "pd_compls = pd.DataFrame({'date' : ['2022-01', '2022-01', '2022-01', '2022-02', '2022-02', '2022-02'], 'page_id': ['-1', '-2', '-3']*2, 'page': ['other-search', 'other-internal', 'other-external']*2})\n",
    "pd_compls['volume'] = pd_compls['page']\n",
    "df_compl = spark.createDataFrame(pd_compls)\n",
    "df_all = df_all.union(df_compl).cache()"
   ]
  },
  {
   "cell_type": "code",
   "execution_count": 9,
   "id": "7f883366-7597-4706-a0cb-bd8637ee6dfd",
   "metadata": {
    "tags": []
   },
   "outputs": [],
   "source": [
    "df_1 = spark.read.csv(\"/scratch/descourt/clickstream/en/clickstream-enwiki-2022-01.tsv.gz\", sep='\\t').withColumn('date', lit('2022-01'))\n",
    "df_2 = spark.read.csv(\"/scratch/descourt/clickstream/en/clickstream-enwiki-2022-02.tsv.gz\", sep='\\t').withColumn('date', lit('2022-02'))\n",
    "df_clickstream = df_1.union(df_2).cache()"
   ]
  },
  {
   "cell_type": "code",
   "execution_count": 10,
   "id": "741e7cf0-2a79-44d4-b5ed-c8da9f3e26c9",
   "metadata": {
    "tags": []
   },
   "outputs": [],
   "source": [
    "df_clickstream = df_clickstream.selectExpr(\"_c0 as prev\", \"_c1 as curr\", \"_c2 as type\", \"_c3 as count\", \"date as date\").cache()"
   ]
  },
  {
   "cell_type": "code",
   "execution_count": 11,
   "id": "60a23420-1d36-43a5-ad16-559661cada7d",
   "metadata": {
    "tags": []
   },
   "outputs": [],
   "source": [
    "# filter\n",
    "df_clickstream = df_clickstream.where((df_clickstream.type != 'other') & ~df_clickstream.prev.isin(['other-other', 'other-empty'])).cache()"
   ]
  },
  {
   "cell_type": "code",
   "execution_count": 12,
   "id": "10049b43-7690-4f93-97ea-a8d5388a87da",
   "metadata": {
    "tags": []
   },
   "outputs": [],
   "source": [
    "df_clickstream = df_clickstream.groupBy('prev', 'curr', 'date').agg(sum('count').alias('count')).cache()"
   ]
  },
  {
   "cell_type": "code",
   "execution_count": 13,
   "id": "5afcd9ea-e507-473b-b2bd-75e504dc1847",
   "metadata": {
    "tags": []
   },
   "outputs": [
    {
     "name": "stderr",
     "output_type": "stream",
     "text": [
      "                                                                                \r"
     ]
    },
    {
     "data": {
      "text/plain": [
       "54407316"
      ]
     },
     "execution_count": 13,
     "metadata": {},
     "output_type": "execute_result"
    }
   ],
   "source": [
    "df_clickstream.count()"
   ]
  },
  {
   "cell_type": "code",
   "execution_count": 14,
   "id": "e113cd97-cee9-4aa4-ab2a-7745f5d8242e",
   "metadata": {
    "tags": []
   },
   "outputs": [],
   "source": [
    "# Match on volume\n",
    "df_clickstream = df_clickstream.join(df_all.select('date', col('page').alias('prev'), col('volume').alias('volume_prev')), on=['date', 'prev'])\\\n",
    "                               .join(df_all.select('date', col('page').alias('curr'), col('volume').alias('volume_curr')), on=['date', 'curr']).cache()"
   ]
  },
  {
   "cell_type": "code",
   "execution_count": 15,
   "id": "351e759c-b77e-4064-84af-f7faaec43725",
   "metadata": {
    "tags": []
   },
   "outputs": [
    {
     "name": "stderr",
     "output_type": "stream",
     "text": [
      "                                                                                \r"
     ]
    },
    {
     "data": {
      "text/plain": [
       "53446132"
      ]
     },
     "execution_count": 15,
     "metadata": {},
     "output_type": "execute_result"
    }
   ],
   "source": [
    "df_clickstream.count()"
   ]
  },
  {
   "cell_type": "code",
   "execution_count": 24,
   "id": "a0c1a0cf-b07a-4240-a71d-fd346b9f9459",
   "metadata": {},
   "outputs": [
    {
     "name": "stderr",
     "output_type": "stream",
     "text": [
      "                                                                                \r"
     ]
    }
   ],
   "source": [
    "from operator import add\n",
    "from functools import reduce\n",
    "df_final = df_clickstream.groupBy('date', 'curr', 'volume_curr')\\\n",
    "              .pivot('volume_prev').sum('count').fillna(0)\\\n",
    "              .withColumn('total-external',reduce(add, [col('other-external'), col('other-search') ])).withColumn('total',reduce(add, [col('other-external'), col('other-search'), col('core'), col('tail') ]))\\\n",
    "              .drop('other-internal')"
   ]
  },
  {
   "cell_type": "code",
   "execution_count": 26,
   "id": "034c3d2e-b801-41ca-84c1-b12e70454da8",
   "metadata": {
    "tags": []
   },
   "outputs": [
    {
     "name": "stdout",
     "output_type": "stream",
     "text": [
      "+-------+--------------------+-----------+-------+--------------+------------+-----+--------------+-------+\n",
      "|   date|                curr|volume_curr|   core|other-external|other-search| tail|total-external|  total|\n",
      "+-------+--------------------+-----------+-------+--------------+------------+-----+--------------+-------+\n",
      "|2022-04|Cairo_pentagonal_...|       tail|   45.0|         114.0|       329.0| 33.0|         443.0|  521.0|\n",
      "|2022-01|2021–22_New_York_...|       core| 2402.0|           0.0|       531.0|169.0|         531.0| 3102.0|\n",
      "|2022-01|Jony_(footballer,...|       tail|  631.0|           0.0|       138.0| 33.0|         138.0|  802.0|\n",
      "|2022-01|      Masami_Teraoka|       tail|  157.0|           0.0|       172.0|  0.0|         172.0|  329.0|\n",
      "|2022-01|Norway–Russia_border|       core|  771.0|         208.0|      3279.0|259.0|        3487.0| 4517.0|\n",
      "|2022-04|     Wright_v_Tatham|       tail|    0.0|           0.0|        55.0|  0.0|          55.0|   55.0|\n",
      "|2022-03|   Iowa_County,_Iowa|       tail|  212.0|           0.0|       187.0| 85.0|         187.0|  484.0|\n",
      "|2022-04|Lucas_Lima_(footb...|       tail|  427.0|           0.0|        59.0| 47.0|          59.0|  533.0|\n",
      "|2022-02|            Adamites|       core| 1740.0|        1295.0|      4144.0| 31.0|        5439.0| 7210.0|\n",
      "|2022-02|Arab_raid_against...|       core|  701.0|          22.0|       761.0|253.0|         783.0| 1737.0|\n",
      "|2022-03|   David_S._Oderberg|       tail|   25.0|          11.0|       193.0|  0.0|         204.0|  229.0|\n",
      "|2022-04|   Song_for_the_Life|       tail|   26.0|           0.0|        95.0| 57.0|          95.0|  178.0|\n",
      "|2022-02|       Kevin_Seconds|       tail|  507.0|           0.0|       323.0| 11.0|         323.0|  841.0|\n",
      "|2022-03|            RV_Knorr|       tail|   98.0|           0.0|       116.0| 81.0|         116.0|  295.0|\n",
      "|2022-02|   Iowa_Barnstormers|       core|22704.0|           0.0|      3833.0|261.0|        3833.0|26798.0|\n",
      "|2022-04|  Paul_Bernard_Vogel|       tail|   26.0|           0.0|         0.0|  0.0|           0.0|   26.0|\n",
      "|2022-04|                WGVU|       tail|   29.0|           0.0|         0.0|  0.0|           0.0|   29.0|\n",
      "|2022-02|  Crying_in_the_Rain|       core|  495.0|           0.0|      1105.0| 30.0|        1105.0| 1630.0|\n",
      "|2022-02|        Jason_Deline|       tail|   33.0|           0.0|        94.0| 19.0|          94.0|  146.0|\n",
      "|2022-02|        Stevie_Smith|       core|  290.0|          17.0|      1823.0|136.0|        1840.0| 2266.0|\n",
      "+-------+--------------------+-----------+-------+--------------+------------+-----+--------------+-------+\n",
      "only showing top 20 rows\n",
      "\n"
     ]
    }
   ],
   "source": [
    "df_final.show()"
   ]
  },
  {
   "cell_type": "markdown",
   "id": "7640bf5b-fc2f-44c6-ae55-0a2cd6a0b184",
   "metadata": {},
   "source": [
    "# Analysis"
   ]
  },
  {
   "cell_type": "code",
   "execution_count": 25,
   "id": "a3513e2b-cb85-4969-8a7b-8a54b73dc05d",
   "metadata": {
    "tags": []
   },
   "outputs": [],
   "source": [
    "df_clickstream = spark.read.parquet(\"/scratch/descourt/processed_data/clickstream/en/clickstream_grouped.parquet\")"
   ]
  },
  {
   "cell_type": "code",
   "execution_count": 27,
   "id": "9cff57b5-346b-4e84-81ec-2e3bf7dfaf72",
   "metadata": {
    "tags": []
   },
   "outputs": [],
   "source": [
    "df_analysis = df_clickstream.select('date', 'volume_curr', (col('core') / col('total') * 100).alias('frac_core'), (col('total-external') / col('total') * 100).alias('frac_ext'), (col('tail') / col('total') * 100).alias('frac_tail')).cache()"
   ]
  },
  {
   "cell_type": "code",
   "execution_count": 34,
   "id": "fb868e6a-7165-4683-ae3d-205981f5dccb",
   "metadata": {
    "tags": []
   },
   "outputs": [],
   "source": [
    "df_ana = df_analysis.groupBy('date', 'volume_curr').agg(avg('frac_core').alias('avg_frac_core'), (stddev('frac_core') * 1.96 / sqrt(count('*'))).alias('std_frac_core'), avg('frac_tail').alias('avg_frac_tail'), (stddev('frac_tail') * 1.96 / sqrt(count('*'))).alias('std_frac_tail'),\\\n",
    "                                               avg('frac_ext').alias('avg_frac_ext'), (stddev('frac_ext') * 1.96 / sqrt(count('*'))).alias('std_frac_ext'), count('*').alias('nb_dpts') ).cache()"
   ]
  },
  {
   "cell_type": "code",
   "execution_count": 36,
   "id": "642ca762-b28e-44b2-a328-85586a035bf0",
   "metadata": {
    "tags": []
   },
   "outputs": [],
   "source": [
    "df_ana_2 = df_analysis.groupBy('date', 'volume_curr').agg(percentile_approx('frac_core', 0.5).alias('med_frac_core'), percentile_approx('frac_tail', 0.5).alias('med_frac_tail'),\\\n",
    "                                               percentile_approx('frac_ext', 0.5).alias('med_frac_ext')).cache()"
   ]
  },
  {
   "cell_type": "code",
   "execution_count": 37,
   "id": "024a6e78-efca-45d3-972b-9007916ea17d",
   "metadata": {
    "tags": []
   },
   "outputs": [
    {
     "name": "stderr",
     "output_type": "stream",
     "text": [
      "                                                                                \r"
     ]
    },
    {
     "name": "stdout",
     "output_type": "stream",
     "text": [
      "+-------+-----------+------------------+------------------+------------------+\n",
      "|   date|volume_curr|     med_frac_core|     med_frac_tail|      med_frac_ext|\n",
      "+-------+-----------+------------------+------------------+------------------+\n",
      "|2022-03|       core|  39.0092879256966| 1.245753114382786|  57.7762139338494|\n",
      "|2022-02|       tail|6.0606060606060606|               0.0|  72.8395061728395|\n",
      "|2022-04|       core| 39.89983305509182|1.2396694214876034| 56.88601850235643|\n",
      "|2022-01|       tail| 7.772020725388601|               0.0| 70.43478260869566|\n",
      "|2022-02|       core| 38.87140287769784| 1.214416296683207|57.953608143722214|\n",
      "|2022-01|       core| 40.15233949945593| 1.282051282051282| 56.55172413793104|\n",
      "|2022-03|       tail| 6.896551724137931|               0.0| 71.69811320754717|\n",
      "|2022-04|       tail| 8.022922636103152|               0.0| 70.83333333333334|\n",
      "+-------+-----------+------------------+------------------+------------------+\n",
      "\n"
     ]
    }
   ],
   "source": [
    "df_ana_2.show()"
   ]
  },
  {
   "cell_type": "code",
   "execution_count": 35,
   "id": "2308e5a5-a69b-4c54-8309-95645267ad56",
   "metadata": {
    "tags": []
   },
   "outputs": [
    {
     "name": "stderr",
     "output_type": "stream",
     "text": [
      "[Stage 424:=============================================>           (4 + 1) / 5]\r"
     ]
    },
    {
     "name": "stdout",
     "output_type": "stream",
     "text": [
      "+-------+-----------+------------------+--------------------+------------------+--------------------+------------------+--------------------+-------+\n",
      "|   date|volume_curr|     avg_frac_core|       std_frac_core|     avg_frac_tail|       std_frac_tail|      avg_frac_ext|        std_frac_ext|nb_dpts|\n",
      "+-------+-----------+------------------+--------------------+------------------+--------------------+------------------+--------------------+-------+\n",
      "|2022-01|       core| 41.61761943218141| 0.05837251968716376|2.8654087021925854|0.010582082469554985| 55.51697186562567|  0.0594437468620673| 709714|\n",
      "|2022-02|       core| 40.81034031291655|   0.058787232240137|2.7520040040069462|0.010425767255820069|56.437655683076535| 0.05984700643604943| 708903|\n",
      "|2022-03|       core| 40.97542211600518|  0.0590914329032076| 2.779690477378634| 0.01036559741301672| 56.24488740661647| 0.06013049879174849| 711522|\n",
      "|2022-04|       core| 41.58756903937836| 0.05830979883556831| 2.779762387160711|0.010284279068324062| 55.63266857346128| 0.05930084252113503| 723932|\n",
      "|2022-02|       tail| 23.59464006739164|0.032031101820488565|11.167418168298486|0.024583180906125594| 65.23794176430985|0.037118268873722604|3407603|\n",
      "|2022-01|       tail| 24.01249327886979|  0.0318837600087195|11.862584896019902|0.025014961133056852| 64.12492182511029| 0.03694925488370226|3443597|\n",
      "|2022-03|       tail|23.884238496512335|0.032090703126033196|11.633446074505583|0.025030755964748623| 64.48231542898365|0.037219427473457536|3438578|\n",
      "|2022-04|       tail|24.498294644844012| 0.03268179993147244|11.484542314595398|0.025049136272039304| 64.01716304056137| 0.03760762273999124|3401939|\n",
      "+-------+-----------+------------------+--------------------+------------------+--------------------+------------------+--------------------+-------+\n",
      "\n"
     ]
    },
    {
     "name": "stderr",
     "output_type": "stream",
     "text": [
      "                                                                                \r"
     ]
    }
   ],
   "source": [
    "df_ana.sort(asc('volume_curr')).show()"
   ]
  },
  {
   "cell_type": "code",
   "execution_count": null,
   "id": "2351f3ad-8b9c-495e-ae4c-1e9d79c842ab",
   "metadata": {},
   "outputs": [],
   "source": []
  }
 ],
 "metadata": {
  "kernelspec": {
   "display_name": "Python 3 (ipykernel)",
   "language": "python",
   "name": "python3"
  },
  "language_info": {
   "codemirror_mode": {
    "name": "ipython",
    "version": 3
   },
   "file_extension": ".py",
   "mimetype": "text/x-python",
   "name": "python",
   "nbconvert_exporter": "python",
   "pygments_lexer": "ipython3",
   "version": "3.10.9"
  },
  "widgets": {
   "application/vnd.jupyter.widget-state+json": {
    "state": {},
    "version_major": 2,
    "version_minor": 0
   }
  }
 },
 "nbformat": 4,
 "nbformat_minor": 5
}
